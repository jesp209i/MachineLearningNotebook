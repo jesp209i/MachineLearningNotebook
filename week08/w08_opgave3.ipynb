{
 "cells": [
  {
   "cell_type": "markdown",
   "source": [
    "# Opgave 3.1\n",
    "\n",
    "Tag kolonnerne \"area\", \"rooms\" og \"new price\" from property-datasættet:"
   ],
   "metadata": {
    "collapsed": false,
    "pycharm": {
     "name": "#%% md\n"
    }
   }
  },
  {
   "cell_type": "code",
   "execution_count": 44,
   "outputs": [],
   "source": [
    "import pandas as pd\n",
    "property_full = pd.read_csv(\"../input/property.csv\")"
   ],
   "metadata": {
    "collapsed": false,
    "pycharm": {
     "name": "#%%\n",
     "is_executing": false
    }
   }
  },
  {
   "cell_type": "code",
   "execution_count": 27,
   "outputs": [
    {
     "data": {
      "text/plain": "   Unnamed: 0 % difference    area  new price  old price price difference  \\\n0           0         -5 %   93 m²  6.500.000  6.200.000         -300.000   \n1           1         -1 %   80 m²  4.150.000  4.100.000          -50.000   \n2           2         -6 %   76 m²  4.800.000  4.495.000         -305.000   \n3           3         -5 %  104 m²  6.650.000  6.295.000         -355.000   \n4           4         -3 %   73 m²  3.350.000  3.250.000         -100.000   \n\n  property area  rooms            type          zip code  \n0          0 m²      2   Ejerlejlighed  1051 København K  \n1          0 m²      2   Ejerlejlighed  1055 København K  \n2          0 m²      3   Ejerlejlighed  1123 København K  \n3        229 m²      3   Ejerlejlighed  1150 København K  \n4          0 m²      2   Ejerlejlighed  1302 København K  ",
      "text/html": "<div>\n<style scoped>\n    .dataframe tbody tr th:only-of-type {\n        vertical-align: middle;\n    }\n\n    .dataframe tbody tr th {\n        vertical-align: top;\n    }\n\n    .dataframe thead th {\n        text-align: right;\n    }\n</style>\n<table border=\"1\" class=\"dataframe\">\n  <thead>\n    <tr style=\"text-align: right;\">\n      <th></th>\n      <th>Unnamed: 0</th>\n      <th>% difference</th>\n      <th>area</th>\n      <th>new price</th>\n      <th>old price</th>\n      <th>price difference</th>\n      <th>property area</th>\n      <th>rooms</th>\n      <th>type</th>\n      <th>zip code</th>\n    </tr>\n  </thead>\n  <tbody>\n    <tr>\n      <th>0</th>\n      <td>0</td>\n      <td>-5 %</td>\n      <td>93 m²</td>\n      <td>6.500.000</td>\n      <td>6.200.000</td>\n      <td>-300.000</td>\n      <td>0 m²</td>\n      <td>2</td>\n      <td>Ejerlejlighed</td>\n      <td>1051 København K</td>\n    </tr>\n    <tr>\n      <th>1</th>\n      <td>1</td>\n      <td>-1 %</td>\n      <td>80 m²</td>\n      <td>4.150.000</td>\n      <td>4.100.000</td>\n      <td>-50.000</td>\n      <td>0 m²</td>\n      <td>2</td>\n      <td>Ejerlejlighed</td>\n      <td>1055 København K</td>\n    </tr>\n    <tr>\n      <th>2</th>\n      <td>2</td>\n      <td>-6 %</td>\n      <td>76 m²</td>\n      <td>4.800.000</td>\n      <td>4.495.000</td>\n      <td>-305.000</td>\n      <td>0 m²</td>\n      <td>3</td>\n      <td>Ejerlejlighed</td>\n      <td>1123 København K</td>\n    </tr>\n    <tr>\n      <th>3</th>\n      <td>3</td>\n      <td>-5 %</td>\n      <td>104 m²</td>\n      <td>6.650.000</td>\n      <td>6.295.000</td>\n      <td>-355.000</td>\n      <td>229 m²</td>\n      <td>3</td>\n      <td>Ejerlejlighed</td>\n      <td>1150 København K</td>\n    </tr>\n    <tr>\n      <th>4</th>\n      <td>4</td>\n      <td>-3 %</td>\n      <td>73 m²</td>\n      <td>3.350.000</td>\n      <td>3.250.000</td>\n      <td>-100.000</td>\n      <td>0 m²</td>\n      <td>2</td>\n      <td>Ejerlejlighed</td>\n      <td>1302 København K</td>\n    </tr>\n  </tbody>\n</table>\n</div>"
     },
     "metadata": {},
     "output_type": "execute_result",
     "execution_count": 27
    }
   ],
   "source": [
    "property_full.head()"
   ],
   "metadata": {
    "collapsed": false,
    "pycharm": {
     "name": "#%%\n",
     "is_executing": false
    }
   }
  },
  {
   "cell_type": "code",
   "execution_count": 28,
   "outputs": [],
   "source": [
    "columns_to_drop=['Unnamed: 0','% difference', 'old price', 'price difference', 'property area', 'type','zip code']"
   ],
   "metadata": {
    "collapsed": false,
    "pycharm": {
     "name": "#%%\n",
     "is_executing": false
    }
   }
  },
  {
   "cell_type": "code",
   "execution_count": 29,
   "outputs": [
    {
     "data": {
      "text/plain": "     area  new price  rooms\n0   93 m²  6.500.000      2\n1   80 m²  4.150.000      2\n2   76 m²  4.800.000      3\n3  104 m²  6.650.000      3\n4   73 m²  3.350.000      2",
      "text/html": "<div>\n<style scoped>\n    .dataframe tbody tr th:only-of-type {\n        vertical-align: middle;\n    }\n\n    .dataframe tbody tr th {\n        vertical-align: top;\n    }\n\n    .dataframe thead th {\n        text-align: right;\n    }\n</style>\n<table border=\"1\" class=\"dataframe\">\n  <thead>\n    <tr style=\"text-align: right;\">\n      <th></th>\n      <th>area</th>\n      <th>new price</th>\n      <th>rooms</th>\n    </tr>\n  </thead>\n  <tbody>\n    <tr>\n      <th>0</th>\n      <td>93 m²</td>\n      <td>6.500.000</td>\n      <td>2</td>\n    </tr>\n    <tr>\n      <th>1</th>\n      <td>80 m²</td>\n      <td>4.150.000</td>\n      <td>2</td>\n    </tr>\n    <tr>\n      <th>2</th>\n      <td>76 m²</td>\n      <td>4.800.000</td>\n      <td>3</td>\n    </tr>\n    <tr>\n      <th>3</th>\n      <td>104 m²</td>\n      <td>6.650.000</td>\n      <td>3</td>\n    </tr>\n    <tr>\n      <th>4</th>\n      <td>73 m²</td>\n      <td>3.350.000</td>\n      <td>2</td>\n    </tr>\n  </tbody>\n</table>\n</div>"
     },
     "metadata": {},
     "output_type": "execute_result",
     "execution_count": 29
    }
   ],
   "source": [
    "X = property_full.drop(columns=columns_to_drop)\n",
    "X.head()"
   ],
   "metadata": {
    "collapsed": false,
    "pycharm": {
     "name": "#%%\n",
     "is_executing": false
    }
   }
  },
  {
   "cell_type": "markdown",
   "source": [
    "Alternativ måde at importere på. Tager kun de kolonner fra csv-filen som der skal bruges:"
   ],
   "metadata": {
    "collapsed": false
   }
  },
  {
   "cell_type": "code",
   "execution_count": 55,
   "outputs": [
    {
     "data": {
      "text/plain": "     area  new price  rooms\n0   93 m²  6.500.000      2\n1   80 m²  4.150.000      2\n2   76 m²  4.800.000      3\n3  104 m²  6.650.000      3\n4   73 m²  3.350.000      2",
      "text/html": "<div>\n<style scoped>\n    .dataframe tbody tr th:only-of-type {\n        vertical-align: middle;\n    }\n\n    .dataframe tbody tr th {\n        vertical-align: top;\n    }\n\n    .dataframe thead th {\n        text-align: right;\n    }\n</style>\n<table border=\"1\" class=\"dataframe\">\n  <thead>\n    <tr style=\"text-align: right;\">\n      <th></th>\n      <th>area</th>\n      <th>new price</th>\n      <th>rooms</th>\n    </tr>\n  </thead>\n  <tbody>\n    <tr>\n      <th>0</th>\n      <td>93 m²</td>\n      <td>6.500.000</td>\n      <td>2</td>\n    </tr>\n    <tr>\n      <th>1</th>\n      <td>80 m²</td>\n      <td>4.150.000</td>\n      <td>2</td>\n    </tr>\n    <tr>\n      <th>2</th>\n      <td>76 m²</td>\n      <td>4.800.000</td>\n      <td>3</td>\n    </tr>\n    <tr>\n      <th>3</th>\n      <td>104 m²</td>\n      <td>6.650.000</td>\n      <td>3</td>\n    </tr>\n    <tr>\n      <th>4</th>\n      <td>73 m²</td>\n      <td>3.350.000</td>\n      <td>2</td>\n    </tr>\n  </tbody>\n</table>\n</div>"
     },
     "metadata": {},
     "output_type": "execute_result",
     "execution_count": 55
    }
   ],
   "source": [
    "columns_to_keep = ['area', 'new price', 'rooms']\n",
    "X = pd.read_csv(\"../input/property.csv\", usecols=columns_to_keep)\n",
    "X.head()"
   ],
   "metadata": {
    "collapsed": false,
    "pycharm": {
     "name": "#%%\n",
     "is_executing": false
    }
   }
  },
  {
   "cell_type": "markdown",
   "source": [
    "# Opgave 3.2\n",
    "Sørg for at kolonnerne kun indeholder tal\n",
    "- \"area\" indeholder \"m²\"\n",
    "- tallene i \"new price\" indeholder punktummer"
   ],
   "metadata": {
    "collapsed": false
   }
  },
  {
   "cell_type": "code",
   "execution_count": 56,
   "outputs": [
    {
     "name": "stdout",
     "text": [
      "<class 'pandas.core.frame.DataFrame'>\n",
      "RangeIndex: 1092 entries, 0 to 1091\n",
      "Data columns (total 3 columns):\n",
      " #   Column     Non-Null Count  Dtype\n",
      "---  ------     --------------  -----\n",
      " 0   area       1092 non-null   int64\n",
      " 1   new price  1092 non-null   int64\n",
      " 2   rooms      1092 non-null   int64\n",
      "dtypes: int64(3)\n",
      "memory usage: 25.7 KB\n"
     ],
     "output_type": "stream"
    },
    {
     "data": {
      "text/plain": "   area  new price  rooms\n0    93    6500000      2\n1    80    4150000      2\n2    76    4800000      3\n3   104    6650000      3\n4    73    3350000      2",
      "text/html": "<div>\n<style scoped>\n    .dataframe tbody tr th:only-of-type {\n        vertical-align: middle;\n    }\n\n    .dataframe tbody tr th {\n        vertical-align: top;\n    }\n\n    .dataframe thead th {\n        text-align: right;\n    }\n</style>\n<table border=\"1\" class=\"dataframe\">\n  <thead>\n    <tr style=\"text-align: right;\">\n      <th></th>\n      <th>area</th>\n      <th>new price</th>\n      <th>rooms</th>\n    </tr>\n  </thead>\n  <tbody>\n    <tr>\n      <th>0</th>\n      <td>93</td>\n      <td>6500000</td>\n      <td>2</td>\n    </tr>\n    <tr>\n      <th>1</th>\n      <td>80</td>\n      <td>4150000</td>\n      <td>2</td>\n    </tr>\n    <tr>\n      <th>2</th>\n      <td>76</td>\n      <td>4800000</td>\n      <td>3</td>\n    </tr>\n    <tr>\n      <th>3</th>\n      <td>104</td>\n      <td>6650000</td>\n      <td>3</td>\n    </tr>\n    <tr>\n      <th>4</th>\n      <td>73</td>\n      <td>3350000</td>\n      <td>2</td>\n    </tr>\n  </tbody>\n</table>\n</div>"
     },
     "metadata": {},
     "output_type": "execute_result",
     "execution_count": 56
    }
   ],
   "source": [
    "X['area'] = X['area'].str.replace(' m²','').astype('int64')\n",
    "X['new price'] = X['new price'].str.replace('.','').astype('int64')\n",
    "X.info()\n",
    "X.head()"
   ],
   "metadata": {
    "collapsed": false,
    "pycharm": {
     "name": "#%%\n",
     "is_executing": false
    }
   }
  },
  {
   "cell_type": "markdown",
   "source": [
    "# Opgave 3.3\n",
    "Opdel datasættet med `train_test_split`, hvor y er \"new price\""
   ],
   "metadata": {
    "collapsed": false,
    "pycharm": {
     "name": "#%% md\n"
    }
   }
  },
  {
   "cell_type": "code",
   "execution_count": 57,
   "outputs": [],
   "source": [
    "y = X['new price'].values\n",
    "X = X.drop('new price', axis=1).values"
   ],
   "metadata": {
    "collapsed": false,
    "pycharm": {
     "name": "#%%\n",
     "is_executing": false
    }
   }
  },
  {
   "cell_type": "code",
   "execution_count": 58,
   "outputs": [],
   "source": [
    "from sklearn.model_selection import train_test_split\n",
    "\n",
    "X_train, X_test, y_train, y_test = train_test_split(X,y,test_size=0.2,random_state=42)"
   ],
   "metadata": {
    "collapsed": false,
    "pycharm": {
     "name": "#%%\n",
     "is_executing": false
    }
   }
  },
  {
   "cell_type": "markdown",
   "source": [
    "# Opgave 3.4\n",
    "Træn en LinearRegression algoritme på træningsdelen"
   ],
   "metadata": {
    "collapsed": false,
    "pycharm": {
     "name": "#%% md\n"
    }
   }
  },
  {
   "cell_type": "code",
   "execution_count": 59,
   "outputs": [
    {
     "data": {
      "text/plain": "LinearRegression(copy_X=True, fit_intercept=True, n_jobs=None, normalize=False)"
     },
     "metadata": {},
     "output_type": "execute_result",
     "execution_count": 59
    }
   ],
   "source": [
    "from sklearn.linear_model import LinearRegression\n",
    "reg = LinearRegression()\n",
    "reg.fit(X_train,y_train)"
   ],
   "metadata": {
    "collapsed": false,
    "pycharm": {
     "name": "#%%\n",
     "is_executing": false
    }
   }
  },
  {
   "cell_type": "markdown",
   "source": [
    "# Opgave 3.5\n",
    "Og predict på testdelen"
   ],
   "metadata": {
    "collapsed": false,
    "pycharm": {
     "name": "#%% md\n",
     "is_executing": false
    }
   }
  },
  {
   "cell_type": "code",
   "execution_count": 60,
   "outputs": [],
   "source": [
    "property_predict = reg.predict(X_test)"
   ],
   "metadata": {
    "collapsed": false,
    "pycharm": {
     "name": "#%%\n",
     "is_executing": false
    }
   }
  },
  {
   "cell_type": "markdown",
   "source": [
    "# Opgave 3.6\n",
    "Udregn en RMSE for din prediction"
   ],
   "metadata": {
    "collapsed": false,
    "pycharm": {
     "name": "#%% md\n",
     "is_executing": false
    }
   }
  },
  {
   "cell_type": "code",
   "execution_count": 69,
   "outputs": [
    {
     "name": "stdout",
     "text": [
      "1793266.9092382684\n"
     ],
     "output_type": "stream"
    }
   ],
   "source": [
    "import numpy as np\n",
    "from sklearn.metrics import  mean_squared_error\n",
    "property_predict_rmse = np.sqrt(mean_squared_error(property_predict,y_test))\n",
    "print(property_predict_rmse)"
   ],
   "metadata": {
    "collapsed": false,
    "pycharm": {
     "name": "#%%\n",
     "is_executing": false
    }
   }
  },
  {
   "cell_type": "markdown",
   "source": [
    "# Opgave 3.7\n",
    "Brug get_dummies på type-kolonnen, så tekstværdierne bliver til talværdier"
   ],
   "metadata": {
    "collapsed": false,
    "pycharm": {
     "name": "#%% md\n"
    }
   }
  },
  {
   "cell_type": "code",
   "execution_count": 37,
   "outputs": [
    {
     "data": {
      "text/plain": "     area  new price  rooms            type\n0   93 m²  6.500.000      2   Ejerlejlighed\n1   80 m²  4.150.000      2   Ejerlejlighed\n2   76 m²  4.800.000      3   Ejerlejlighed\n3  104 m²  6.650.000      3   Ejerlejlighed\n4   73 m²  3.350.000      2   Ejerlejlighed",
      "text/html": "<div>\n<style scoped>\n    .dataframe tbody tr th:only-of-type {\n        vertical-align: middle;\n    }\n\n    .dataframe tbody tr th {\n        vertical-align: top;\n    }\n\n    .dataframe thead th {\n        text-align: right;\n    }\n</style>\n<table border=\"1\" class=\"dataframe\">\n  <thead>\n    <tr style=\"text-align: right;\">\n      <th></th>\n      <th>area</th>\n      <th>new price</th>\n      <th>rooms</th>\n      <th>type</th>\n    </tr>\n  </thead>\n  <tbody>\n    <tr>\n      <th>0</th>\n      <td>93 m²</td>\n      <td>6.500.000</td>\n      <td>2</td>\n      <td>Ejerlejlighed</td>\n    </tr>\n    <tr>\n      <th>1</th>\n      <td>80 m²</td>\n      <td>4.150.000</td>\n      <td>2</td>\n      <td>Ejerlejlighed</td>\n    </tr>\n    <tr>\n      <th>2</th>\n      <td>76 m²</td>\n      <td>4.800.000</td>\n      <td>3</td>\n      <td>Ejerlejlighed</td>\n    </tr>\n    <tr>\n      <th>3</th>\n      <td>104 m²</td>\n      <td>6.650.000</td>\n      <td>3</td>\n      <td>Ejerlejlighed</td>\n    </tr>\n    <tr>\n      <th>4</th>\n      <td>73 m²</td>\n      <td>3.350.000</td>\n      <td>2</td>\n      <td>Ejerlejlighed</td>\n    </tr>\n  </tbody>\n</table>\n</div>"
     },
     "metadata": {},
     "output_type": "execute_result",
     "execution_count": 37
    }
   ],
   "source": [
    "X2 = property_full.drop(columns=['Unnamed: 0','% difference', 'old price', 'price difference', 'property area', 'zip code'])\n",
    "X2.head()"
   ],
   "metadata": {
    "collapsed": false,
    "pycharm": {
     "name": "#%%\n",
     "is_executing": false
    }
   }
  },
  {
   "cell_type": "code",
   "execution_count": 38,
   "outputs": [],
   "source": [
    "X2['area'] = X2['area'].str.replace(' m²','').astype('int64')\n",
    "X2['new price'] = X2['new price'].str.replace('.','').astype('int64')\n",
    "\n",
    "type_property = pd.get_dummies(X2, drop_first=True)"
   ],
   "metadata": {
    "collapsed": false,
    "pycharm": {
     "name": "#%%\n",
     "is_executing": false
    }
   }
  },
  {
   "cell_type": "code",
   "execution_count": 40,
   "outputs": [
    {
     "data": {
      "text/plain": "   area  new price  rooms  type_ Ejerlejlighed  type_ Fritidsgrund  \\\n0    93    6500000      2                    1                   0   \n1    80    4150000      2                    1                   0   \n2    76    4800000      3                    1                   0   \n3   104    6650000      3                    1                   0   \n4    73    3350000      2                    1                   0   \n\n   type_ Fritidshus  type_ Helårsgrund  type_ Landejendom  type_ Rækkehus  \\\n0                 0                  0                  0               0   \n1                 0                  0                  0               0   \n2                 0                  0                  0               0   \n3                 0                  0                  0               0   \n4                 0                  0                  0               0   \n\n   type_ Villa  type_ Villalejlighed  \n0            0                     0  \n1            0                     0  \n2            0                     0  \n3            0                     0  \n4            0                     0  ",
      "text/html": "<div>\n<style scoped>\n    .dataframe tbody tr th:only-of-type {\n        vertical-align: middle;\n    }\n\n    .dataframe tbody tr th {\n        vertical-align: top;\n    }\n\n    .dataframe thead th {\n        text-align: right;\n    }\n</style>\n<table border=\"1\" class=\"dataframe\">\n  <thead>\n    <tr style=\"text-align: right;\">\n      <th></th>\n      <th>area</th>\n      <th>new price</th>\n      <th>rooms</th>\n      <th>type_ Ejerlejlighed</th>\n      <th>type_ Fritidsgrund</th>\n      <th>type_ Fritidshus</th>\n      <th>type_ Helårsgrund</th>\n      <th>type_ Landejendom</th>\n      <th>type_ Rækkehus</th>\n      <th>type_ Villa</th>\n      <th>type_ Villalejlighed</th>\n    </tr>\n  </thead>\n  <tbody>\n    <tr>\n      <th>0</th>\n      <td>93</td>\n      <td>6500000</td>\n      <td>2</td>\n      <td>1</td>\n      <td>0</td>\n      <td>0</td>\n      <td>0</td>\n      <td>0</td>\n      <td>0</td>\n      <td>0</td>\n      <td>0</td>\n    </tr>\n    <tr>\n      <th>1</th>\n      <td>80</td>\n      <td>4150000</td>\n      <td>2</td>\n      <td>1</td>\n      <td>0</td>\n      <td>0</td>\n      <td>0</td>\n      <td>0</td>\n      <td>0</td>\n      <td>0</td>\n      <td>0</td>\n    </tr>\n    <tr>\n      <th>2</th>\n      <td>76</td>\n      <td>4800000</td>\n      <td>3</td>\n      <td>1</td>\n      <td>0</td>\n      <td>0</td>\n      <td>0</td>\n      <td>0</td>\n      <td>0</td>\n      <td>0</td>\n      <td>0</td>\n    </tr>\n    <tr>\n      <th>3</th>\n      <td>104</td>\n      <td>6650000</td>\n      <td>3</td>\n      <td>1</td>\n      <td>0</td>\n      <td>0</td>\n      <td>0</td>\n      <td>0</td>\n      <td>0</td>\n      <td>0</td>\n      <td>0</td>\n    </tr>\n    <tr>\n      <th>4</th>\n      <td>73</td>\n      <td>3350000</td>\n      <td>2</td>\n      <td>1</td>\n      <td>0</td>\n      <td>0</td>\n      <td>0</td>\n      <td>0</td>\n      <td>0</td>\n      <td>0</td>\n      <td>0</td>\n    </tr>\n  </tbody>\n</table>\n</div>"
     },
     "metadata": {},
     "output_type": "execute_result",
     "execution_count": 40
    }
   ],
   "source": [
    "type_property.head()"
   ],
   "metadata": {
    "collapsed": false,
    "pycharm": {
     "name": "#%%\n",
     "is_executing": false
    }
   }
  },
  {
   "cell_type": "markdown",
   "source": [
    "# Opgave 3.8\n",
    "Gentræn din linearRegression, og tjek om scoren forbedrede sig\n",
    "\n",
    "Først opdel:"
   ],
   "metadata": {
    "collapsed": false,
    "pycharm": {
     "name": "#%% md\n"
    }
   }
  },
  {
   "cell_type": "code",
   "execution_count": 64,
   "outputs": [],
   "source": [
    "ytype = type_property['new price'].values\n",
    "Xtype = type_property.drop('new price', axis=1).values"
   ],
   "metadata": {
    "collapsed": false,
    "pycharm": {
     "name": "#%%\n",
     "is_executing": false
    }
   }
  },
  {
   "cell_type": "markdown",
   "source": [
    "Så train_test_split"
   ],
   "metadata": {
    "collapsed": false,
    "pycharm": {
     "name": "#%% md\n"
    }
   }
  },
  {
   "cell_type": "code",
   "execution_count": 65,
   "outputs": [],
   "source": [
    "Xtype_train, Xtype_test, ytype_train, ytype_test = train_test_split(Xtype,ytype,test_size=0.2,random_state=42)"
   ],
   "metadata": {
    "collapsed": false,
    "pycharm": {
     "name": "#%%\n",
     "is_executing": false
    }
   }
  },
  {
   "cell_type": "markdown",
   "source": [
    "så laves en fit på LinearRegression algoritmen og predict på test efterfølgende"
   ],
   "metadata": {
    "collapsed": false,
    "pycharm": {
     "name": "#%% md\n"
    }
   }
  },
  {
   "cell_type": "code",
   "execution_count": 66,
   "outputs": [],
   "source": [
    "reg.fit(Xtype_train,ytype_train)\n",
    "property_predict_type = reg.predict(Xtype_test)"
   ],
   "metadata": {
    "collapsed": false,
    "pycharm": {
     "name": "#%%\n",
     "is_executing": false
    }
   }
  },
  {
   "cell_type": "markdown",
   "source": [
    "udregn RMSE på den nye prediction"
   ],
   "metadata": {
    "collapsed": false,
    "pycharm": {
     "name": "#%% md\n"
    }
   }
  },
  {
   "cell_type": "code",
   "execution_count": 70,
   "outputs": [
    {
     "name": "stdout",
     "text": [
      "1793266.9092382684 1601385.0252866277\n"
     ],
     "output_type": "stream"
    }
   ],
   "source": [
    "property_predict_type_rmse = np.sqrt(mean_squared_error(property_predict_type,ytype_test))\n",
    "print(property_predict_rmse,property_predict_type_rmse) "
   ],
   "metadata": {
    "collapsed": false,
    "pycharm": {
     "name": "#%%\n",
     "is_executing": false
    }
   }
  },
  {
   "cell_type": "markdown",
   "source": [
    "# Opgave 3.9\n",
    "`Forklar begrebet regularization`\n",
    "\n",
    "Regularization bruges til at forhindre overfitting. \n",
    "\n",
    "Regularization \"straffer\" store koefficienter\n",
    "\n",
    "\n",
    "- `Hvilke slags regularizations findes der?`\n",
    "Ridge (regression) (L2) og Lasso (L1)\n",
    "\n",
    "Lasso kan bruges til at vælge interessante festures i et datasæt, da den sænker coefficienten på mindre interessante features til nul"
   ],
   "metadata": {
    "collapsed": false,
    "pycharm": {
     "name": "#%% md\n"
    }
   }
  },
  {
   "cell_type": "code",
   "execution_count": 75,
   "outputs": [
    {
     "name": "stdout",
     "text": [
      "[  18575.14788556  118686.55846884 2994883.45217124 1517331.38866371\n",
      "  706614.35390906 2237460.63877008  202904.85954809 1799657.87997644\n",
      "  251272.0481353  2445467.03172254] [  10042.04877256  176468.4859329  1327612.51915617 -241107.95975695\n",
      " -510126.36081875  274679.51814223  -90945.65249793  507806.74935738\n",
      " -483742.71815848  955863.19407482]\n",
      "      area  new price  rooms  type_ Ejerlejlighed  type_ Fritidsgrund  \\\n",
      "0       93    6500000      2                    1                   0   \n",
      "1       80    4150000      2                    1                   0   \n",
      "2       76    4800000      3                    1                   0   \n",
      "3      104    6650000      3                    1                   0   \n",
      "4       73    3350000      2                    1                   0   \n",
      "...    ...        ...    ...                  ...                 ...   \n",
      "1087   160    1595000      4                    0                   0   \n",
      "1088   150    1595000      5                    0                   0   \n",
      "1089    50    2195000      4                    0                   0   \n",
      "1090    92    2995000      3                    1                   0   \n",
      "1091   138    1595000      4                    0                   0   \n",
      "\n",
      "      type_ Fritidshus  type_ Helårsgrund  type_ Landejendom  type_ Rækkehus  \\\n",
      "0                    0                  0                  0               0   \n",
      "1                    0                  0                  0               0   \n",
      "2                    0                  0                  0               0   \n",
      "3                    0                  0                  0               0   \n",
      "4                    0                  0                  0               0   \n",
      "...                ...                ...                ...             ...   \n",
      "1087                 0                  0                  0               0   \n",
      "1088                 0                  0                  0               0   \n",
      "1089                 1                  0                  0               0   \n",
      "1090                 0                  0                  0               0   \n",
      "1091                 0                  0                  0               0   \n",
      "\n",
      "      type_ Villa  type_ Villalejlighed  \n",
      "0               0                     0  \n",
      "1               0                     0  \n",
      "2               0                     0  \n",
      "3               0                     0  \n",
      "4               0                     0  \n",
      "...           ...                   ...  \n",
      "1087            1                     0  \n",
      "1088            1                     0  \n",
      "1089            0                     0  \n",
      "1090            0                     0  \n",
      "1091            1                     0  \n",
      "\n",
      "[1092 rows x 11 columns]\n"
     ],
     "output_type": "stream"
    },
    {
     "data": {
      "text/plain": "<Figure size 432x288 with 1 Axes>",
      "image/png": "[encoded data removed]"
     },
     "metadata": {},
     "output_type": "display_data"
    }
   ],
   "source": [
    "from sklearn.linear_model import Lasso\n",
    "from sklearn.linear_model import Ridge\n",
    "lasso = Lasso(alpha=0.4, normalize=True)\n",
    "ridge = Ridge(alpha=0.4, normalize=True)\n",
    "lasso.fit(Xtype, ytype)\n",
    "ridge.fit(Xtype, ytype)\n",
    "lasso_coef = lasso.fit(Xtype,ytype).coef_\n",
    "ridge_coef = ridge.fit(Xtype,ytype).coef_\n",
    "print(lasso_coef, ridge_coef)\n",
    "from matplotlib import pyplot as plt\n",
    "plt.plot(lasso_coef)\n",
    "plt.plot(ridge_coef)\n",
    "plt.show()\n",
    "print(type_property)"
   ],
   "metadata": {
    "collapsed": false,
    "pycharm": {
     "name": "#%%\n",
     "is_executing": false
    }
   }
  }
 ],
 "metadata": {
  "kernelspec": {
   "display_name": "Python 3",
   "language": "python",
   "name": "python3"
  },
  "language_info": {
   "codemirror_mode": {
    "name": "ipython",
    "version": 3
   },
   "file_extension": ".py",
   "mimetype": "text/x-python",
   "name": "python",
   "nbconvert_exporter": "python",
   "pygments_lexer": "ipython3",
   "version": "3.7.4"
  },
  "pycharm": {
   "stem_cell": {
    "cell_type": "raw",
    "source": [],
    "metadata": {
     "collapsed": false
    }
   }
  }
 },
 "nbformat": 4,
 "nbformat_minor": 2
}