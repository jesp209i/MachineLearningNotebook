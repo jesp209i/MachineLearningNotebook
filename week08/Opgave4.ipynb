{
 "cells": [
  {
   "cell_type": "markdown",
   "metadata": {
    "collapsed": true,
    "pycharm": {
     "name": "#%% md\n"
    }
   },
   "source": [
    "# Opgave 4\n",
    "# Opgave 4.1\n",
    "Lav lasso regression på bilbasen-datasættet for at finde den parameter der er vigtigst for prisen"
   ]
  },
  {
   "cell_type": "code",
   "execution_count": 31,
   "metadata": {
    "pycharm": {
     "is_executing": false,
     "name": "#%%\n"
    }
   },
   "outputs": [
    {
     "name": "stdout",
     "text": [
      "<class 'pandas.core.frame.DataFrame'>\n",
      "RangeIndex: 5440 entries, 0 to 5439\n",
      "Data columns (total 6 columns):\n",
      " #   Column      Non-Null Count  Dtype  \n",
      "---  ------      --------------  -----  \n",
      " 0   HK          5440 non-null   float64\n",
      " 1   KM          5440 non-null   float64\n",
      " 2   KmPerLiter  5440 non-null   float64\n",
      " 3   KMT         5440 non-null   float64\n",
      " 4   Price       5440 non-null   float64\n",
      " 5   Year        5440 non-null   float64\n",
      "dtypes: float64(6)\n",
      "memory usage: 255.1 KB\n"
     ],
     "output_type": "stream"
    },
    {
     "data": {
      "text/plain": "      HK     KM  KmPerLiter   KMT     Price    Year\n0   90.0  171.0        22.2  10.7   49900.0  2008.0\n1   99.0  310.0        20.4  11.7  129800.0  2015.0\n2  147.0   90.0        15.2   9.7  179900.0  2014.0\n3  163.0   89.0        19.2   9.8  239900.0  2014.0\n4  136.0  250.0        18.9  10.1  299000.0  2014.0",
      "text/html": "<div>\n<style scoped>\n    .dataframe tbody tr th:only-of-type {\n        vertical-align: middle;\n    }\n\n    .dataframe tbody tr th {\n        vertical-align: top;\n    }\n\n    .dataframe thead th {\n        text-align: right;\n    }\n</style>\n<table border=\"1\" class=\"dataframe\">\n  <thead>\n    <tr style=\"text-align: right;\">\n      <th></th>\n      <th>HK</th>\n      <th>KM</th>\n      <th>KmPerLiter</th>\n      <th>KMT</th>\n      <th>Price</th>\n      <th>Year</th>\n    </tr>\n  </thead>\n  <tbody>\n    <tr>\n      <th>0</th>\n      <td>90.0</td>\n      <td>171.0</td>\n      <td>22.2</td>\n      <td>10.7</td>\n      <td>49900.0</td>\n      <td>2008.0</td>\n    </tr>\n    <tr>\n      <th>1</th>\n      <td>99.0</td>\n      <td>310.0</td>\n      <td>20.4</td>\n      <td>11.7</td>\n      <td>129800.0</td>\n      <td>2015.0</td>\n    </tr>\n    <tr>\n      <th>2</th>\n      <td>147.0</td>\n      <td>90.0</td>\n      <td>15.2</td>\n      <td>9.7</td>\n      <td>179900.0</td>\n      <td>2014.0</td>\n    </tr>\n    <tr>\n      <th>3</th>\n      <td>163.0</td>\n      <td>89.0</td>\n      <td>19.2</td>\n      <td>9.8</td>\n      <td>239900.0</td>\n      <td>2014.0</td>\n    </tr>\n    <tr>\n      <th>4</th>\n      <td>136.0</td>\n      <td>250.0</td>\n      <td>18.9</td>\n      <td>10.1</td>\n      <td>299000.0</td>\n      <td>2014.0</td>\n    </tr>\n  </tbody>\n</table>\n</div>"
     },
     "metadata": {},
     "output_type": "execute_result",
     "execution_count": 31
    }
   ],
   "source": [
    "%matplotlib inline\n",
    "import pandas as pd\n",
    "data = pd.read_csv('../input/bilbasen_unformatet.csv', sep=';')\n",
    "data = data.drop('CarName', axis=1)\n",
    "data['HK'] = data['HK'].astype('float64')\n",
    "data['Price'] = data['Price'].astype('float64')\n",
    "data['Year'] = data['Year'].astype('float64')\n",
    "data.info()\n",
    "data.head()"
   ]
  },
  {
   "cell_type": "code",
   "execution_count": 40,
   "metadata": {
    "pycharm": {
     "is_executing": false,
     "name": "#%%\n"
    }
   },
   "outputs": [],
   "source": [
    "cars_price = data['Price']\n",
    "cars_parameters = data.drop('Price', axis=1)\n",
    "cars_columns_names = cars_parameters.columns.values"
   ]
  },
  {
   "cell_type": "code",
   "execution_count": 41,
   "metadata": {
    "pycharm": {
     "is_executing": false,
     "name": "#%%\n"
    }
   },
   "outputs": [
    {
     "name": "stdout",
     "text": [
      "['HK' 'KM' 'KmPerLiter' 'KMT' 'Year']\n"
     ],
     "output_type": "stream"
    }
   ],
   "source": [
    "print(cars_columns_names)"
   ]
  },
  {
   "cell_type": "code",
   "execution_count": 42,
   "metadata": {
    "pycharm": {
     "is_executing": false,
     "name": "#%%\n"
    }
   },
   "outputs": [],
   "source": [
    "from sklearn.linear_model import Lasso\n",
    "lasso = Lasso(alpha=0.4, normalize=True)\n",
    "lasso.fit(cars_parameters,cars_price)\n",
    "lasso_coef = lasso.fit(cars_parameters,cars_price).coef_"
   ]
  },
  {
   "cell_type": "code",
   "execution_count": 37,
   "metadata": {
    "pycharm": {
     "is_executing": false,
     "name": "#%%\n"
    }
   },
   "outputs": [
    {
     "data": {
      "text/plain": "range(0, 5)"
     },
     "metadata": {},
     "output_type": "execute_result",
     "execution_count": 37
    }
   ],
   "source": [
    "range(len(cars_columns_names))"
   ]
  },
  {
   "cell_type": "code",
   "execution_count": 43,
   "outputs": [
    {
     "data": {
      "text/plain": "<Figure size 432x288 with 1 Axes>",
      "image/png": "[encoded data removed]"
     },
     "metadata": {
      "needs_background": "light"
     },
     "output_type": "display_data"
    }
   ],
   "source": [
    "from matplotlib import pyplot as plt\n",
    "plt.plot(range(len(cars_columns_names)),lasso_coef)\n",
    "plt.xticks(range(len(cars_columns_names)), cars_columns_names, rotation=60)\n",
    "plt.show()"
   ],
   "metadata": {
    "collapsed": false,
    "pycharm": {
     "name": "#%%\n",
     "is_executing": false
    }
   }
  },
  {
   "cell_type": "markdown",
   "metadata": {
    "pycharm": {
     "name": "#%% md\n"
    }
   },
   "source": [
    "# Opgave 4.2\n",
    "`Opsæt en KNN-regressor med k på 3, på bil-basen-sættet, og lav en confusion matrix`\n",
    "- bemærk at jeg ikke har brugt KNN-Regressor, men KNNClassifier"
   ]
  },
  {
   "cell_type": "code",
   "execution_count": 49,
   "outputs": [
    {
     "name": "stdout",
     "text": [
      "[[15  0  0 ...  0  0  0]\n",
      " [ 0  3  0 ...  0  0  0]\n",
      " [ 0  0  0 ...  0  0  0]\n",
      " ...\n",
      " [ 0  0  0 ...  0  0  0]\n",
      " [ 1  0  0 ...  0  0  0]\n",
      " [ 0  0  0 ...  0  0  0]]\n",
      "              precision    recall  f1-score   support\n",
      "\n",
      "         0.0       0.71      0.94      0.81        16\n",
      "      9000.0       0.75      1.00      0.86         3\n",
      "      9900.0       0.00      0.00      0.00         0\n",
      "     22900.0       0.92      1.00      0.96        12\n",
      "     23900.0       0.00      0.00      0.00         1\n",
      "     24000.0       0.00      0.00      0.00         0\n",
      "     24900.0       0.00      0.00      0.00         1\n",
      "     29900.0       1.00      0.94      0.97        17\n",
      "     34800.0       0.50      1.00      0.67         1\n",
      "     34900.0       0.77      1.00      0.87        10\n",
      "     34999.0       0.00      0.00      0.00         0\n",
      "     37900.0       0.82      1.00      0.90         9\n",
      "     38500.0       0.00      0.00      0.00         1\n",
      "     39800.0       0.00      0.00      0.00         0\n",
      "     39900.0       1.00      0.64      0.78        11\n",
      "     39999.0       0.00      0.00      0.00         1\n",
      "     44800.0       0.00      0.00      0.00         0\n",
      "     44900.0       0.00      0.00      0.00         1\n",
      "     47900.0       0.00      0.00      0.00         0\n",
      "     49800.0       0.00      0.00      0.00         1\n",
      "     49900.0       0.00      0.00      0.00         6\n",
      "     49999.0       0.00      0.00      0.00         0\n",
      "     51900.0       0.00      0.00      0.00         0\n",
      "     54900.0       0.86      0.92      0.89        13\n",
      "     55900.0       0.00      0.00      0.00         0\n",
      "     56500.0       0.00      0.00      0.00         0\n",
      "     59800.0       0.00      0.00      0.00         1\n",
      "     59900.0       0.00      0.00      0.00         6\n",
      "     63500.0       0.00      0.00      0.00         1\n",
      "     64800.0       0.50      0.25      0.33         4\n",
      "     64900.0       0.00      0.00      0.00         0\n",
      "     65900.0       0.00      0.00      0.00         0\n",
      "     66900.0       0.00      0.00      0.00         1\n",
      "     69800.0       0.00      0.00      0.00         1\n",
      "     69900.0       0.25      0.33      0.29         3\n",
      "     74200.0       0.50      1.00      0.67         1\n",
      "     74900.0       0.00      0.00      0.00         2\n",
      "     76800.0       0.00      0.00      0.00         1\n",
      "     79799.0       0.00      0.00      0.00         0\n",
      "     79800.0       0.00      0.00      0.00         3\n",
      "     79900.0       0.00      0.00      0.00         4\n",
      "     79999.0       0.00      0.00      0.00         1\n",
      "     82000.0       0.00      0.00      0.00         1\n",
      "     82800.0       1.00      1.00      1.00         1\n",
      "     82900.0       0.00      0.00      0.00         0\n",
      "     84700.0       0.00      0.00      0.00         1\n",
      "     84800.0       0.50      0.50      0.50         2\n",
      "     84900.0       0.12      0.25      0.17         4\n",
      "     84999.0       0.00      0.00      0.00         0\n",
      "     87800.0       0.00      0.00      0.00         1\n",
      "     89700.0       0.00      0.00      0.00         0\n",
      "     89800.0       0.00      0.00      0.00         0\n",
      "     89900.0       0.25      0.20      0.22         5\n",
      "     92900.0       0.00      0.00      0.00         0\n",
      "     94800.0       0.00      0.00      0.00         0\n",
      "     94900.0       0.33      0.50      0.40         2\n",
      "     95900.0       0.00      0.00      0.00         1\n",
      "     96900.0       1.00      1.00      1.00        14\n",
      "     97900.0       1.00      1.00      1.00         1\n",
      "     99500.0       0.00      0.00      0.00         0\n",
      "     99800.0       0.00      0.00      0.00         3\n",
      "     99900.0       0.00      0.00      0.00         7\n",
      "    104900.0       0.00      0.00      0.00         0\n",
      "    107900.0       0.00      0.00      0.00         1\n",
      "    109500.0       0.00      0.00      0.00         0\n",
      "    109800.0       0.00      0.00      0.00         1\n",
      "    109900.0       0.92      0.73      0.81        15\n",
      "    111900.0       1.00      1.00      1.00         7\n",
      "    112900.0       0.00      0.00      0.00         1\n",
      "    114500.0       0.00      0.00      0.00         1\n",
      "    114700.0       0.00      0.00      0.00         0\n",
      "    114900.0       0.20      0.33      0.25         3\n",
      "    115900.0       0.86      1.00      0.92         6\n",
      "    116900.0       0.94      0.94      0.94        17\n",
      "    117900.0       0.71      0.83      0.77         6\n",
      "    118500.0       0.00      0.00      0.00         1\n",
      "    119700.0       0.00      0.00      0.00         1\n",
      "    119800.0       1.00      0.94      0.97        16\n",
      "    119899.0       1.00      1.00      1.00         1\n",
      "    119900.0       0.81      0.77      0.79        22\n",
      "    122500.0       0.00      0.00      0.00         1\n",
      "    122900.0       0.00      0.00      0.00         1\n",
      "    123500.0       0.00      0.00      0.00         0\n",
      "    123900.0       0.00      0.00      0.00         0\n",
      "    124500.0       0.00      0.00      0.00         1\n",
      "    124600.0       1.00      1.00      1.00         1\n",
      "    124700.0       0.00      0.00      0.00         1\n",
      "    124800.0       0.67      0.80      0.73         5\n",
      "    124900.0       0.00      0.00      0.00         4\n",
      "    124999.0       0.00      0.00      0.00         1\n",
      "    128800.0       0.50      1.00      0.67         1\n",
      "    129700.0       0.00      0.00      0.00         1\n",
      "    129800.0       0.40      0.67      0.50         3\n",
      "    129900.0       0.21      0.50      0.30         6\n",
      "    129990.0       0.00      0.00      0.00         1\n",
      "    134800.0       0.00      0.00      0.00         1\n",
      "    134900.0       0.00      0.00      0.00         6\n",
      "    139600.0       0.00      0.00      0.00         0\n",
      "    139700.0       0.00      0.00      0.00         1\n",
      "    139800.0       0.00      0.00      0.00         2\n",
      "    139900.0       0.70      0.76      0.73        25\n",
      "    139990.0       0.00      0.00      0.00         1\n",
      "    143700.0       0.00      0.00      0.00         1\n",
      "    144800.0       0.00      0.00      0.00         2\n",
      "    144900.0       0.20      0.40      0.27         5\n",
      "    145000.0       0.00      0.00      0.00         0\n",
      "    148900.0       0.00      0.00      0.00         1\n",
      "    149000.0       0.00      0.00      0.00         0\n",
      "    149700.0       0.00      0.00      0.00         0\n",
      "    149800.0       0.00      0.00      0.00         2\n",
      "    149900.0       0.71      0.78      0.75        32\n",
      "    150000.0       0.00      0.00      0.00         1\n",
      "    152000.0       0.00      0.00      0.00         1\n",
      "    152800.0       0.00      0.00      0.00         0\n",
      "    152900.0       0.00      0.00      0.00         0\n",
      "    154800.0       0.00      0.00      0.00         1\n",
      "    154900.0       0.00      0.00      0.00         5\n",
      "    156900.0       0.50      1.00      0.67         1\n",
      "    157000.0       0.88      1.00      0.93         7\n",
      "    157900.0       0.00      0.00      0.00         1\n",
      "    159192.0       0.00      0.00      0.00         1\n",
      "    159800.0       0.50      0.50      0.50         2\n",
      "    159880.0       0.00      0.00      0.00         1\n",
      "    159900.0       0.25      0.29      0.27         7\n",
      "    163900.0       0.00      0.00      0.00         0\n",
      "    164800.0       0.00      0.00      0.00         1\n",
      "    164900.0       0.72      0.62      0.67        21\n",
      "    165000.0       0.00      0.00      0.00         1\n",
      "    169700.0       0.00      0.00      0.00         4\n",
      "    169800.0       0.00      0.00      0.00         0\n",
      "    169900.0       0.36      0.33      0.35        12\n",
      "    169990.0       0.00      0.00      0.00         1\n",
      "    172000.0       0.00      0.00      0.00         0\n",
      "    172900.0       0.00      0.00      0.00         1\n",
      "    174900.0       0.58      0.85      0.69        13\n",
      "    177000.0       0.00      0.00      0.00         0\n",
      "    177900.0       0.00      0.00      0.00         1\n",
      "    179800.0       0.00      0.00      0.00         2\n",
      "    179900.0       0.50      0.63      0.56        19\n",
      "    179950.0       0.00      0.00      0.00         1\n",
      "    182000.0       0.00      0.00      0.00         1\n",
      "    183900.0       0.00      0.00      0.00         1\n",
      "    184000.0       0.00      0.00      0.00         0\n",
      "    184700.0       0.00      0.00      0.00         0\n",
      "    184900.0       0.85      0.79      0.81        14\n",
      "    188888.0       0.00      0.00      0.00         1\n",
      "    189700.0       0.00      0.00      0.00         1\n",
      "    189800.0       0.25      0.25      0.25         4\n",
      "    189900.0       0.07      0.12      0.09         8\n",
      "    192800.0       1.00      1.00      1.00         1\n",
      "    194800.0       0.00      0.00      0.00         0\n",
      "    194900.0       0.00      0.00      0.00         3\n",
      "    198400.0       0.00      0.00      0.00         1\n",
      "    199600.0       0.67      0.67      0.67         3\n",
      "    199700.0       0.00      0.00      0.00         1\n",
      "    199800.0       0.33      0.33      0.33         3\n",
      "    199895.0       0.00      0.00      0.00         0\n",
      "    199900.0       0.00      0.00      0.00        14\n",
      "    199999.0       0.00      0.00      0.00         0\n",
      "    204700.0       0.00      0.00      0.00         0\n",
      "    204800.0       0.00      0.00      0.00         0\n",
      "    204900.0       0.00      0.00      0.00         2\n",
      "    209700.0       0.00      0.00      0.00         2\n",
      "    209800.0       0.11      0.33      0.17         3\n",
      "    209900.0       0.64      0.50      0.56        14\n",
      "    214700.0       0.86      0.92      0.89        13\n",
      "    214777.0       0.00      0.00      0.00         0\n",
      "    214900.0       0.00      0.00      0.00         3\n",
      "    217000.0       0.00      0.00      0.00         0\n",
      "    217900.0       0.00      0.00      0.00         0\n",
      "    219700.0       0.00      0.00      0.00         0\n",
      "    219800.0       0.00      0.00      0.00         1\n",
      "    219900.0       0.09      0.11      0.10         9\n",
      "    222000.0       0.00      0.00      0.00         1\n",
      "    224800.0       0.00      0.00      0.00         1\n",
      "    224900.0       0.78      0.70      0.74        10\n",
      "    228000.0       0.00      0.00      0.00         1\n",
      "    228900.0       0.00      0.00      0.00         1\n",
      "    229700.0       0.00      0.00      0.00         1\n",
      "    229800.0       0.00      0.00      0.00         4\n",
      "    229900.0       0.40      0.20      0.27        10\n",
      "    232000.0       0.00      0.00      0.00         1\n",
      "    233900.0       0.80      1.00      0.89         4\n",
      "    234700.0       0.33      1.00      0.50         1\n",
      "    234800.0       0.00      0.00      0.00         1\n",
      "    234900.0       0.00      0.00      0.00         4\n",
      "    237700.0       0.00      0.00      0.00         1\n",
      "    239500.0       0.00      0.00      0.00         1\n",
      "    239700.0       0.00      0.00      0.00         1\n",
      "    239800.0       0.00      0.00      0.00         1\n",
      "    239900.0       0.71      0.89      0.79        47\n",
      "    242000.0       0.00      0.00      0.00         1\n",
      "    242900.0       1.00      1.00      1.00        17\n",
      "    244900.0       0.00      0.00      0.00         1\n",
      "    246900.0       0.00      0.00      0.00         1\n",
      "    249500.0       0.00      0.00      0.00         0\n",
      "    249700.0       0.00      0.00      0.00         0\n",
      "    249800.0       0.00      0.00      0.00         2\n",
      "    249900.0       0.67      0.18      0.29        11\n",
      "    252995.0       0.00      0.00      0.00         0\n",
      "    254500.0       0.00      0.00      0.00         1\n",
      "    254800.0       0.00      0.00      0.00         0\n",
      "    254900.0       0.00      0.00      0.00         1\n",
      "    259700.0       0.00      0.00      0.00         0\n",
      "    259800.0       0.67      0.60      0.63        10\n",
      "    259900.0       0.00      0.00      0.00         7\n",
      "    262000.0       0.00      0.00      0.00         0\n",
      "    264000.0       0.00      0.00      0.00         1\n",
      "    264700.0       0.00      0.00      0.00         1\n",
      "    264900.0       0.00      0.00      0.00         3\n",
      "    267000.0       0.00      0.00      0.00         1\n",
      "    269700.0       0.00      0.00      0.00         0\n",
      "    269800.0       0.00      0.00      0.00         1\n",
      "    269900.0       0.40      0.36      0.38        11\n",
      "    272000.0       0.00      0.00      0.00         1\n",
      "    274800.0       0.00      0.00      0.00         1\n",
      "    274900.0       0.00      0.00      0.00         1\n",
      "    279800.0       0.00      0.00      0.00         1\n",
      "    279900.0       0.00      0.00      0.00         5\n",
      "    284800.0       0.00      0.00      0.00         0\n",
      "    284900.0       0.00      0.00      0.00         0\n",
      "    288900.0       0.00      0.00      0.00         1\n",
      "    289800.0       0.00      0.00      0.00         1\n",
      "    289900.0       0.71      0.71      0.71        14\n",
      "    294900.0       0.50      0.50      0.50         2\n",
      "    297000.0       0.00      0.00      0.00         0\n",
      "    299700.0       0.00      0.00      0.00         1\n",
      "    299800.0       0.00      0.00      0.00         3\n",
      "    299900.0       0.89      0.89      0.89        46\n",
      "    304900.0       0.00      0.00      0.00         0\n",
      "    309800.0       0.00      0.00      0.00         1\n",
      "    309900.0       0.00      0.00      0.00         2\n",
      "    314800.0       0.00      0.00      0.00         0\n",
      "    314900.0       0.00      0.00      0.00         2\n",
      "    319800.0       0.00      0.00      0.00         2\n",
      "    319900.0       0.94      0.94      0.94        18\n",
      "    329000.0       1.00      1.00      1.00         2\n",
      "    329700.0       0.00      0.00      0.00         1\n",
      "    329800.0       0.00      0.00      0.00         1\n",
      "    329900.0       0.00      0.00      0.00         6\n",
      "    334170.0       0.00      0.00      0.00         0\n",
      "    334900.0       0.00      0.00      0.00         1\n",
      "    337030.0       0.00      0.00      0.00         1\n",
      "    339000.0       0.00      0.00      0.00         0\n",
      "    339700.0       0.00      0.00      0.00         1\n",
      "    339800.0       0.00      0.00      0.00         1\n",
      "    339900.0       0.00      0.00      0.00         1\n",
      "    344900.0       0.00      0.00      0.00         1\n",
      "    349700.0       0.00      0.00      0.00         0\n",
      "    349800.0       0.00      0.00      0.00         0\n",
      "    349900.0       1.00      0.62      0.77        24\n",
      "    359500.0       0.00      0.00      0.00         1\n",
      "    359800.0       0.00      0.00      0.00         0\n",
      "    359900.0       0.00      0.00      0.00         3\n",
      "    360000.0       0.00      0.00      0.00         0\n",
      "    363995.0       0.00      0.00      0.00         0\n",
      "    364000.0       0.00      0.00      0.00         1\n",
      "    364900.0       0.00      0.00      0.00         0\n",
      "    369000.0       1.00      1.00      1.00         5\n",
      "    369900.0       0.33      0.33      0.33         3\n",
      "    374700.0       1.00      1.00      1.00         1\n",
      "    379800.0       0.00      0.00      0.00         2\n",
      "    379900.0       1.00      0.20      0.33         5\n",
      "    384900.0       1.00      0.50      0.67         2\n",
      "    388400.0       0.00      0.00      0.00         1\n",
      "    389900.0       0.00      0.00      0.00         1\n",
      "    395000.0       0.00      0.00      0.00         0\n",
      "    399000.0       0.00      0.00      0.00         1\n",
      "    399900.0       0.00      0.00      0.00         6\n",
      "    407900.0       0.00      0.00      0.00         1\n",
      "    409900.0       0.00      0.00      0.00         2\n",
      "    414900.0       0.00      0.00      0.00         1\n",
      "    419800.0       0.00      0.00      0.00         2\n",
      "    419900.0       0.00      0.00      0.00         2\n",
      "    425000.0       0.00      0.00      0.00         1\n",
      "    429900.0       0.97      0.88      0.92        32\n",
      "    439900.0       0.00      0.00      0.00         1\n",
      "    444900.0       0.00      0.00      0.00         0\n",
      "    445000.0       0.00      0.00      0.00         1\n",
      "    447000.0       0.00      0.00      0.00         1\n",
      "    448900.0       0.00      0.00      0.00         1\n",
      "    449800.0       0.00      0.00      0.00         1\n",
      "    449900.0       0.33      0.50      0.40         4\n",
      "    459900.0       0.00      0.00      0.00         2\n",
      "    464900.0       0.00      0.00      0.00         1\n",
      "    469900.0       1.00      1.00      1.00        13\n",
      "    474900.0       0.00      0.00      0.00         1\n",
      "    479900.0       0.00      0.00      0.00         1\n",
      "    489900.0       1.00      1.00      1.00        10\n",
      "    499900.0       0.70      0.89      0.78        18\n",
      "    509900.0       0.00      0.00      0.00         0\n",
      "    524900.0       0.00      0.00      0.00         1\n",
      "    529900.0       0.00      0.00      0.00         0\n",
      "    539900.0       0.33      0.57      0.42         7\n",
      "    549000.0       0.00      0.00      0.00         0\n",
      "    549800.0       0.00      0.00      0.00         0\n",
      "    549900.0       0.00      0.00      0.00         3\n",
      "    559800.0       0.00      0.00      0.00         1\n",
      "    559900.0       0.00      0.00      0.00         1\n",
      "    569900.0       0.00      0.00      0.00         2\n",
      "    579800.0       0.00      0.00      0.00         0\n",
      "    589900.0       0.14      0.12      0.13         8\n",
      "    599900.0       0.00      0.00      0.00         5\n",
      "    614900.0       0.00      0.00      0.00         1\n",
      "    619900.0       0.00      0.00      0.00         1\n",
      "    629900.0       0.00      0.00      0.00         2\n",
      "    649900.0       0.00      0.00      0.00         2\n",
      "    669800.0       0.00      0.00      0.00         1\n",
      "    669900.0       0.00      0.00      0.00         1\n",
      "    679900.0       0.92      1.00      0.96        11\n",
      "    699800.0       0.00      0.00      0.00         0\n",
      "    699900.0       0.00      0.00      0.00         2\n",
      "    715000.0       0.00      0.00      0.00         1\n",
      "    739900.0       0.00      0.00      0.00         1\n",
      "    749900.0       0.00      0.00      0.00         2\n",
      "    759900.0       0.00      0.00      0.00         1\n",
      "    789900.0       0.00      0.00      0.00         1\n",
      "    799900.0       0.00      0.00      0.00         3\n",
      "    819900.0       0.00      0.00      0.00         1\n",
      "    849800.0       0.00      0.00      0.00         0\n",
      "    859000.0       0.00      0.00      0.00         1\n",
      "    869900.0       0.00      0.00      0.00         0\n",
      "    879900.0       0.00      0.00      0.00         1\n",
      "    895000.0       0.00      0.00      0.00         1\n",
      "    899900.0       0.00      0.00      0.00         0\n",
      "    969900.0       0.00      0.00      0.00         1\n",
      "    995800.0       0.00      0.00      0.00         1\n",
      "   1029900.0       0.00      0.00      0.00         1\n",
      "   1595000.0       0.00      0.00      0.00         1\n",
      "   1999900.0       0.00      0.00      0.00         1\n",
      "   2200000.0       0.00      0.00      0.00         1\n",
      "\n",
      "    accuracy                           0.55      1088\n",
      "   macro avg       0.16      0.17      0.16      1088\n",
      "weighted avg       0.54      0.55      0.54      1088\n",
      "\n"
     ],
     "output_type": "stream"
    },
    {
     "name": "stderr",
     "text": [
      "c:\\users\\jespe\\.virtualenvs\\machinelearningnotebook-qxxtnzx7\\lib\\site-packages\\sklearn\\metrics\\_classification.py:1272: UndefinedMetricWarning: Precision and F-score are ill-defined and being set to 0.0 in labels with no predicted samples. Use `zero_division` parameter to control this behavior.\n",
      "  _warn_prf(average, modifier, msg_start, len(result))\n",
      "c:\\users\\jespe\\.virtualenvs\\machinelearningnotebook-qxxtnzx7\\lib\\site-packages\\sklearn\\metrics\\_classification.py:1272: UndefinedMetricWarning: Recall and F-score are ill-defined and being set to 0.0 in labels with no true samples. Use `zero_division` parameter to control this behavior.\n",
      "  _warn_prf(average, modifier, msg_start, len(result))\n"
     ],
     "output_type": "stream"
    }
   ],
   "source": [
    "from sklearn.neighbors import KNeighborsClassifier\n",
    "from sklearn.metrics import classification_report, confusion_matrix\n",
    "from sklearn.model_selection import train_test_split\n",
    "knn = KNeighborsClassifier(n_neighbors=3)\n",
    "X_train, X_test, y_train, y_test = train_test_split(cars_parameters,cars_price, test_size=0.2,random_state=42)\n",
    "\n",
    "knn.fit(X_train,y_train)\n",
    "y_pred = knn.predict(X_test)\n",
    "print(confusion_matrix(y_test, y_pred))\n",
    "print(classification_report(y_test, y_pred))"
   ],
   "metadata": {
    "collapsed": false,
    "pycharm": {
     "name": "#%%\n",
     "is_executing": false
    }
   }
  },
  {
   "cell_type": "markdown",
   "metadata": {
    "pycharm": {
     "name": "#%% md\n"
    }
   },
   "source": [
    "# Opgave 4.3\n",
    "`Forklar begreberne Precision og recall`\n",
    "- precision: (PPV / Positive Predictive Value) \n",
    "  - (antal true positive) / (antal true positive + antal falske positive)\n",
    "  - En højere værdi betyder et bedre resultat. Der er et lavt antal af falske positive.\n",
    "  - Ved et lavere tal betyder det at modellen oftere predicter/giver en forkert label\n",
    "- recall: (sensitivity, hit rate eller TPR/True positive rate) \n",
    "  - (antal true positive) / (antal true positive + antal falske negative)\n",
    "  - jo højere værdi des flere korrekte predictions. Der er et lavt antal falske negative\n",
    "  - Siger noget om modellens følsomhed. \n",
    "\n",
    "\n",
    "\n"
   ]
  }
 ],
 "metadata": {
  "kernelspec": {
   "display_name": "Python 3",
   "language": "python",
   "name": "python3"
  },
  "language_info": {
   "codemirror_mode": {
    "name": "ipython",
    "version": 3
   },
   "file_extension": ".py",
   "mimetype": "text/x-python",
   "name": "python",
   "nbconvert_exporter": "python",
   "pygments_lexer": "ipython3",
   "version": "3.8.1"
  },
  "pycharm": {
   "stem_cell": {
    "cell_type": "raw",
    "source": [],
    "metadata": {
     "collapsed": false
    }
   }
  }
 },
 "nbformat": 4,
 "nbformat_minor": 1
}