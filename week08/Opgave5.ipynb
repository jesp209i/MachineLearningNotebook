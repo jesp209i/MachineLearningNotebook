{
 "cells": [
  {
   "cell_type": "markdown",
   "metadata": {
    "collapsed": true,
    "pycharm": {
     "name": "#%% md\n"
    }
   },
   "source": [
    "# Opgave 5\n",
    "\n",
    "## Forklar hvad en `ROC`-kurve viser\n",
    "Man skal bruge datasættet incl færdige labels, så man kan teste dette.\n",
    "\n",
    "ROC kurven viser forholdet mellem \"true positive\" og \"false positive\"\n",
    "\n",
    "(AUC Area under curve)\n",
    "Arealen under ROC-curven siger noget om hvor godt din model er:\n",
    "- jo større areal des bedre model\n",
    "\n",
    "## Forklar begrebet `hyperparameter`\n",
    "Hyperparameter dækker over parametre der påvirker dine algoritmer og dermed din endelige model - påvirker \"fitting\"\n",
    "- KNeighborsClassifier har eksempelvis parameteren n_neighbors\n",
    "- Lasso og Ridge har parameteren alpha\n",
    "\n",
    "## Forklar hvad `GridSearchCV` gør\n",
    "Udfører en cross-validation på forskellige hyperparametre for at finde hvilke/n parametre der giver har bedst performance.\n",
    "Man skal også angive hvilken algoritme man vil udføre GridSearchCV på:\n",
    "\n",
    "```python\n",
    "from sklearn.model_selection import GridSearchCV\n",
    "from sklearn.neighbors import KNeighborsClassifier\n",
    "param_grid = {'n_neighbord' : np.arrange(1,50)}\n",
    "knn = KNeighbordClassifier()\n",
    "knn_cv = GridSearchCV(knn, param_grid, cv=5)\n",
    "knn_cv.fit(X,y)\n",
    "knn_cv.best_params_\n",
    "```\n",
    "\n",
    "## Forklar begrebet `Normalize`\n",
    "\n",
    "\n"
   ]
  }
 ],
 "metadata": {
  "kernelspec": {
   "display_name": "Python 3",
   "language": "python",
   "name": "python3"
  },
  "language_info": {
   "codemirror_mode": {
    "name": "ipython",
    "version": 2
   },
   "file_extension": ".py",
   "mimetype": "text/x-python",
   "name": "python",
   "nbconvert_exporter": "python",
   "pygments_lexer": "ipython2",
   "version": "2.7.6"
  },
  "pycharm": {
   "stem_cell": {
    "cell_type": "raw",
    "source": [],
    "metadata": {
     "collapsed": false
    }
   }
  }
 },
 "nbformat": 4,
 "nbformat_minor": 0
}