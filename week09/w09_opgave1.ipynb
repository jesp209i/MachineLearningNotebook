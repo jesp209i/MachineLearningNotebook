{
 "cells": [
  {
   "cell_type": "markdown",
   "metadata": {
    "pycharm": {
     "name": "#%% md\n"
    }
   },
   "source": [
    "# Opgaver i uge 9\n",
    "# Opgave 1\n",
    "### 1.1 Vurder datasættet\n",
    "Vurder datasættet fra rainforest.\n",
    "- beslut om du vil fjerne kolonner eller impute værdier, eller en blanding.\n",
    "- Lad os se, hvad der giver det bedste resultat."
   ]
  },
  {
   "cell_type": "code",
   "execution_count": 22,
   "metadata": {
    "pycharm": {
     "is_executing": false,
     "name": "#%%\n"
    }
   },
   "outputs": [],
   "source": [
    "# Importerer typiske hjælpebiblioteker\n",
    "%matplotlib inline\n",
    "import pandas as pd\n",
    "import numpy as np\n",
    "import matplotlib\n",
    "import matplotlib.pyplot as plt\n",
    "import seaborn as sns\n",
    "import os\n",
    "\n",
    "# importer sklearn-pakkerne der skal bruges\n",
    "from sklearn.neighbors import KNeighborsClassifier\n",
    "from sklearn.model_selection import train_test_split\n"
   ]
  },
  {
   "cell_type": "code",
   "execution_count": 4,
   "metadata": {
    "pycharm": {
     "is_executing": false,
     "name": "#%%\n"
    }
   },
   "outputs": [
    {
     "name": "stdout",
     "text": [
      "<class 'pandas.core.frame.DataFrame'>\n",
      "RangeIndex: 65 entries, 0 to 64\n",
      "Data columns (total 8 columns):\n",
      " #   Column      Non-Null Count  Dtype  \n",
      "---  ------      --------------  -----  \n",
      " 0   Unnamed: 0  65 non-null     int64  \n",
      " 1   dbh         65 non-null     int64  \n",
      " 2   wood        64 non-null     float64\n",
      " 3   bark        4 non-null      float64\n",
      " 4   root        13 non-null     float64\n",
      " 5   rootsk      13 non-null     float64\n",
      " 6   branch      43 non-null     float64\n",
      " 7   species     65 non-null     object \n",
      "dtypes: float64(5), int64(2), object(1)\n",
      "memory usage: 4.2+ KB\n"
     ],
     "output_type": "stream"
    },
    {
     "data": {
      "text/plain": "   Unnamed: 0  dbh   wood  bark   root  rootsk  branch          species\n0          27    6    NaN   NaN    6.0     0.3     NaN  Acacia mabellae\n1          61   23  353.0   NaN  135.0    13.0    35.0  Acacia mabellae\n2          62   20  208.0   NaN    NaN     NaN    41.0  Acacia mabellae\n3          63   23  445.0   NaN    NaN     NaN    50.0  Acacia mabellae\n4          65   24  590.0   NaN    NaN     NaN     NaN  Acacia mabellae",
      "text/html": "<div>\n<style scoped>\n    .dataframe tbody tr th:only-of-type {\n        vertical-align: middle;\n    }\n\n    .dataframe tbody tr th {\n        vertical-align: top;\n    }\n\n    .dataframe thead th {\n        text-align: right;\n    }\n</style>\n<table border=\"1\" class=\"dataframe\">\n  <thead>\n    <tr style=\"text-align: right;\">\n      <th></th>\n      <th>Unnamed: 0</th>\n      <th>dbh</th>\n      <th>wood</th>\n      <th>bark</th>\n      <th>root</th>\n      <th>rootsk</th>\n      <th>branch</th>\n      <th>species</th>\n    </tr>\n  </thead>\n  <tbody>\n    <tr>\n      <th>0</th>\n      <td>27</td>\n      <td>6</td>\n      <td>NaN</td>\n      <td>NaN</td>\n      <td>6.0</td>\n      <td>0.3</td>\n      <td>NaN</td>\n      <td>Acacia mabellae</td>\n    </tr>\n    <tr>\n      <th>1</th>\n      <td>61</td>\n      <td>23</td>\n      <td>353.0</td>\n      <td>NaN</td>\n      <td>135.0</td>\n      <td>13.0</td>\n      <td>35.0</td>\n      <td>Acacia mabellae</td>\n    </tr>\n    <tr>\n      <th>2</th>\n      <td>62</td>\n      <td>20</td>\n      <td>208.0</td>\n      <td>NaN</td>\n      <td>NaN</td>\n      <td>NaN</td>\n      <td>41.0</td>\n      <td>Acacia mabellae</td>\n    </tr>\n    <tr>\n      <th>3</th>\n      <td>63</td>\n      <td>23</td>\n      <td>445.0</td>\n      <td>NaN</td>\n      <td>NaN</td>\n      <td>NaN</td>\n      <td>50.0</td>\n      <td>Acacia mabellae</td>\n    </tr>\n    <tr>\n      <th>4</th>\n      <td>65</td>\n      <td>24</td>\n      <td>590.0</td>\n      <td>NaN</td>\n      <td>NaN</td>\n      <td>NaN</td>\n      <td>NaN</td>\n      <td>Acacia mabellae</td>\n    </tr>\n  </tbody>\n</table>\n</div>"
     },
     "metadata": {},
     "output_type": "execute_result",
     "execution_count": 4
    }
   ],
   "source": [
    "input_file = \"..\\\\input\\\\rainforest.csv\"\n",
    "properties = pd.read_csv(input_file) # Her indlæses i en dataframe\n",
    "properties.info()\n",
    "properties.head()"
   ]
  },
  {
   "cell_type": "code",
   "execution_count": 16,
   "outputs": [
    {
     "name": "stdout",
     "text": [
      "<class 'pandas.core.frame.DataFrame'>\n",
      "Int64Index: 4 entries, 38 to 41\n",
      "Data columns (total 8 columns):\n",
      " #   Column      Non-Null Count  Dtype  \n",
      "---  ------      --------------  -----  \n",
      " 0   Unnamed: 0  4 non-null      int64  \n",
      " 1   dbh         4 non-null      int64  \n",
      " 2   wood        4 non-null      float64\n",
      " 3   bark        4 non-null      float64\n",
      " 4   root        4 non-null      float64\n",
      " 5   rootsk      4 non-null      float64\n",
      " 6   branch      4 non-null      float64\n",
      " 7   species     4 non-null      object \n",
      "dtypes: float64(5), int64(2), object(1)\n",
      "memory usage: 288.0+ bytes\n"
     ],
     "output_type": "stream"
    },
    {
     "traceback": [
      "\u001b[1;31m---------------------------------------------------------------------------\u001b[0m",
      "\u001b[1;31mTypeError\u001b[0m                                 Traceback (most recent call last)",
      "\u001b[1;32m<ipython-input-16-d413d411f45a>\u001b[0m in \u001b[0;36m<module>\u001b[1;34m\u001b[0m\n\u001b[0;32m      2\u001b[0m \u001b[0mprop_dropna\u001b[0m\u001b[1;33m.\u001b[0m\u001b[0minfo\u001b[0m\u001b[1;33m(\u001b[0m\u001b[1;33m)\u001b[0m\u001b[1;33m\u001b[0m\u001b[1;33m\u001b[0m\u001b[0m\n\u001b[0;32m      3\u001b[0m \u001b[0mprop_dropna\u001b[0m\u001b[1;33m.\u001b[0m\u001b[0mhead\u001b[0m\u001b[1;33m(\u001b[0m\u001b[1;33m)\u001b[0m\u001b[1;33m\u001b[0m\u001b[1;33m\u001b[0m\u001b[0m\n\u001b[1;32m----> 4\u001b[1;33m \u001b[0mprop_dropna\u001b[0m\u001b[1;33m.\u001b[0m\u001b[0mshape\u001b[0m\u001b[1;33m(\u001b[0m\u001b[1;33m)\u001b[0m\u001b[1;33m\u001b[0m\u001b[1;33m\u001b[0m\u001b[0m\n\u001b[0m\u001b[0;32m      5\u001b[0m \u001b[1;33m\u001b[0m\u001b[0m\n\u001b[0;32m      6\u001b[0m \u001b[1;33m\u001b[0m\u001b[0m\n",
      "\u001b[1;31mTypeError\u001b[0m: 'tuple' object is not callable"
     ],
     "ename": "TypeError",
     "evalue": "'tuple' object is not callable",
     "output_type": "error"
    }
   ],
   "source": [
    "prop_dropna = properties.dropna()"
   ],
   "metadata": {
    "collapsed": false,
    "pycharm": {
     "name": "#%%\n",
     "is_executing": false
    }
   }
  },
  {
   "cell_type": "code",
   "execution_count": null,
   "outputs": [],
   "source": [
    "prop_dropna.info()"
   ],
   "metadata": {
    "collapsed": false,
    "pycharm": {
     "name": "#%%\n"
    }
   }
  },
  {
   "cell_type": "code",
   "execution_count": null,
   "outputs": [],
   "source": [
    "prop_dropna.head()"
   ],
   "metadata": {
    "collapsed": false,
    "pycharm": {
     "name": "#%%\n"
    }
   }
  },
  {
   "cell_type": "code",
   "execution_count": 20,
   "outputs": [
    {
     "traceback": [
      "\u001b[1;31m---------------------------------------------------------------------------\u001b[0m",
      "\u001b[1;31mTypeError\u001b[0m                                 Traceback (most recent call last)",
      "\u001b[1;32m<ipython-input-20-ceb1cb9c31ae>\u001b[0m in \u001b[0;36m<module>\u001b[1;34m\u001b[0m\n\u001b[1;32m----> 1\u001b[1;33m \u001b[0mprop_dropna\u001b[0m\u001b[1;33m.\u001b[0m\u001b[0mshape\u001b[0m\u001b[1;33m(\u001b[0m\u001b[1;33m)\u001b[0m\u001b[1;33m\u001b[0m\u001b[1;33m\u001b[0m\u001b[0m\n\u001b[0m\u001b[0;32m      2\u001b[0m \u001b[1;33m\u001b[0m\u001b[0m\n\u001b[0;32m      3\u001b[0m \u001b[1;33m\u001b[0m\u001b[0m\n",
      "\u001b[1;31mTypeError\u001b[0m: 'tuple' object is not callable"
     ],
     "ename": "TypeError",
     "evalue": "'tuple' object is not callable",
     "output_type": "error"
    }
   ],
   "source": [
    "np.shape(prop_dropna)\n"
   ],
   "metadata": {
    "collapsed": false,
    "pycharm": {
     "name": "#%%\n",
     "is_executing": false
    }
   }
  },
  {
   "cell_type": "code",
   "execution_count": 38,
   "outputs": [
    {
     "name": "stdout",
     "text": [
      "['Acacia mabellae' 'Acacia mabellae' 'Acacia mabellae' 'Acacia mabellae'\n",
      " 'Acacia mabellae' 'Acacia mabellae' 'Acacia mabellae' 'Acacia mabellae'\n",
      " 'Acacia mabellae' 'Acacia mabellae' 'Acacia mabellae' 'Acacia mabellae'\n",
      " 'Acacia mabellae' 'Acacia mabellae' 'Acacia mabellae' 'Acacia mabellae'\n",
      " 'C. fraseri' 'C. fraseri' 'C. fraseri' 'C. fraseri' 'C. fraseri'\n",
      " 'C. fraseri' 'C. fraseri' 'C. fraseri' 'C. fraseri' 'C. fraseri'\n",
      " 'C. fraseri' 'C. fraseri' 'Acmena smithii' 'Acmena smithii'\n",
      " 'Acmena smithii' 'Acmena smithii' 'Acmena smithii' 'Acmena smithii'\n",
      " 'Acmena smithii' 'Acmena smithii' 'Acmena smithii' 'Acmena smithii'\n",
      " 'B. myrtifolia' 'B. myrtifolia' 'B. myrtifolia' 'B. myrtifolia'\n",
      " 'B. myrtifolia' 'B. myrtifolia' 'B. myrtifolia' 'B. myrtifolia'\n",
      " 'B. myrtifolia' 'B. myrtifolia' 'B. myrtifolia' 'Acmena smithii'\n",
      " 'Acmena smithii' 'Acmena smithii' 'Acmena smithii' 'Acmena smithii'\n",
      " 'Acmena smithii' 'Acmena smithii' 'Acmena smithii' 'Acmena smithii'\n",
      " 'Acmena smithii' 'Acmena smithii' 'Acmena smithii' 'Acmena smithii'\n",
      " 'Acmena smithii' 'Acmena smithii' 'Acmena smithii']\n"
     ],
     "output_type": "stream"
    }
   ],
   "source": [
    "y_prop = properties['species'].values\n",
    "X_prop = properties.drop('species', axis=1).values\n",
    "from sklearn.impute import SimpleImputer\n",
    "imp = SimpleImputer(missing_values=np.nan, strategy='mean')\n",
    "imp.fit(X_prop)\n",
    "X_prop_imp = imp.transform(X_prop)\n",
    "X_prop_imp = pd.DataFrame(X_prop_imp)\n",
    "X_prop_imp.head()\n",
    "print(y_prop)"
   ],
   "metadata": {
    "collapsed": false,
    "pycharm": {
     "name": "#%%\n",
     "is_executing": false
    }
   }
  },
  {
   "cell_type": "markdown",
   "metadata": {
    "pycharm": {
     "name": "#%% md\n"
    }
   },
   "source": [
    "## 1.2 Del sættet op\n",
    "Del sættet op i samples og labels, så du har et datasæt, som kun består af talværdier for de enkelte træsorter."
   ]
  },
  {
   "cell_type": "code",
   "execution_count": 39,
   "outputs": [
    {
     "traceback": [
      "\u001b[1;31m---------------------------------------------------------------------------\u001b[0m",
      "\u001b[1;31mTypeError\u001b[0m                                 Traceback (most recent call last)",
      "\u001b[1;32m<ipython-input-39-d401adbcaef8>\u001b[0m in \u001b[0;36m<module>\u001b[1;34m\u001b[0m\n\u001b[1;32m----> 1\u001b[1;33m \u001b[0mplt\u001b[0m\u001b[1;33m.\u001b[0m\u001b[0mscatter\u001b[0m\u001b[1;33m(\u001b[0m\u001b[0mX_prop_imp\u001b[0m\u001b[1;33m)\u001b[0m\u001b[1;33m\u001b[0m\u001b[1;33m\u001b[0m\u001b[0m\n\u001b[0m\u001b[0;32m      2\u001b[0m \u001b[0mplt\u001b[0m\u001b[1;33m.\u001b[0m\u001b[0mshow\u001b[0m\u001b[1;33m(\u001b[0m\u001b[1;33m)\u001b[0m\u001b[1;33m\u001b[0m\u001b[1;33m\u001b[0m\u001b[0m\n\u001b[0;32m      3\u001b[0m \u001b[1;33m\u001b[0m\u001b[0m\n\u001b[0;32m      4\u001b[0m \u001b[1;33m\u001b[0m\u001b[0m\n",
      "\u001b[1;31mTypeError\u001b[0m: scatter() missing 1 required positional argument: 'y'"
     ],
     "ename": "TypeError",
     "evalue": "scatter() missing 1 required positional argument: 'y'",
     "output_type": "error"
    }
   ],
   "source": [
    "\n",
    "\n",
    "plt.scatter(X_prop_imp)\n",
    "plt.show()\n"
   ],
   "metadata": {
    "collapsed": false,
    "pycharm": {
     "name": "#%%\n",
     "is_executing": false
    }
   }
  },
  {
   "cell_type": "markdown",
   "metadata": {
    "pycharm": {
     "name": "#%% md\n"
    }
   },
   "source": [
    "## 1.3 Udfør clustering\n",
    "Udfør en clustering med KMeans:\n",
    "- Hvor mange clusters skal vi inddele i?\n",
    "- Hvordan finder vi et godt antal?"
   ]
  },
  {
   "cell_type": "markdown",
   "metadata": {
    "pycharm": {
     "name": "#%% md\n"
    }
   },
   "source": [
    "## 1.4 Sammenhold\n",
    "Sammenhold wood mod branch i et scatterplot"
   ]
  },
  {
   "cell_type": "code",
   "execution_count": 41,
   "outputs": [
    {
     "data": {
      "text/plain": "<Figure size 432x288 with 1 Axes>",
      "image/png": "[encoded data removed]"
     },
     "metadata": {
      "needs_background": "light"
     },
     "output_type": "display_data"
    }
   ],
   "source": [
    "wood = X_prop_imp[2].values\n",
    "branch = X_prop_imp[6].values\n",
    "plt.scatter(wood,branch)\n",
    "plt.xlabel('wood')\n",
    "plt.ylabel('branch')\n",
    "plt.show()"
   ],
   "metadata": {
    "collapsed": false,
    "pycharm": {
     "name": "#%%\n",
     "is_executing": false
    }
   }
  },
  {
   "cell_type": "markdown",
   "metadata": {
    "pycharm": {
     "name": "#%% md\n"
    }
   },
   "source": [
    "## 1.5 Cross Tabulation\n",
    "Udfør en cross tabulation\n",
    "- Hvor gode er dine resultater?"
   ]
  },
  {
   "cell_type": "markdown",
   "metadata": {
    "pycharm": {
     "name": "#%% md\n"
    }
   },
   "source": [
    "## 1.6 StandardScaler og Pipeline\n",
    "Brug en StandardScaler og en Pipeline til at få bedre resultater\n",
    "- Test igen med cross tabulation."
   ]
  },
  {
   "cell_type": "code",
   "execution_count": null,
   "outputs": [],
   "source": [
    "from sklearn.pipeline import Pipeline\n",
    "from sklearn.preprocessing import StandardScaler\n",
    "\n",
    "pl = Pipeline([('scaler', StandardScaler()), ('kmeans', KMeans())])"
   ],
   "metadata": {
    "collapsed": false,
    "pycharm": {
     "name": "#%%\n"
    }
   }
  },
  {
   "cell_type": "markdown",
   "metadata": {
    "pycharm": {
     "name": "#%% md\n"
    }
   },
   "source": [
    "## 1.7 Intristic dimension\n",
    "Check for intristic dimensions\n",
    "- Lav en dimensionality reduction der svarer til bedste bud\n",
    "- Blev dine resultater bedre?"
   ]
  },
  {
   "cell_type": "markdown",
   "metadata": {
    "pycharm": {
     "name": "#%% md\n"
    }
   },
   "source": [
    "## Opgave 2\n",
    "Classify song genres from audio data (fra datacamp projects)"
   ]
  }
 ],
 "metadata": {
  "kernelspec": {
   "display_name": "Python 3",
   "language": "python",
   "name": "python3"
  },
  "language_info": {
   "codemirror_mode": {
    "name": "ipython",
    "version": 3
   },
   "file_extension": ".py",
   "mimetype": "text/x-python",
   "name": "python",
   "nbconvert_exporter": "python",
   "pygments_lexer": "ipython3",
   "version": "3.8.1"
  },
  "pycharm": {
   "stem_cell": {
    "cell_type": "raw",
    "source": [],
    "metadata": {
     "collapsed": false
    }
   }
  }
 },
 "nbformat": 4,
 "nbformat_minor": 1
}