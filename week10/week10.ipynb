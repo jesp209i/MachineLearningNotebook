{
 "cells": [
  {
   "cell_type": "markdown",
   "metadata": {},
   "source": [
    "# Følgende opgavesæt hører til uge 10 i machine learning på pba i Odense"
   ]
  },
  {
   "cell_type": "markdown",
   "metadata": {},
   "source": [
    "### Besvar følgende i tekst:\n",
    "<li>Hvad er forskellen mellem Logistic Regression, Linear Regression og Linear Classifier?</li>\n",
    "<li>Hvad er sigmoid-funktionen\n",
    "    <ul>Hvad gør den?</ul></li>\n",
    "<li>Forklar Least Squares Loss funktion\n",
    "<ul>Hvor kan denne metrics bruges? (regression eller classification)</ul>\n",
    "    </li> \n"
   ]
  },
  {
   "cell_type": "markdown",
   "metadata": {},
   "source": [
    "### Inden for logistic regression:\n",
    "<li>Forklar hvad coefficienter er</li>\n",
    "<li>Forklar hvad intercept er</li>\n"
   ]
  },
  {
   "cell_type": "markdown",
   "metadata": {},
   "source": [
    "### Inden for SVM:\n",
    "<li>Hvad er kernels/Hvad bruges de til?</li>"
   ]
  },
  {
   "cell_type": "markdown",
   "metadata": {},
   "source": [
    "### Kodning\n",
    "Afprøv Logistic regression med probability på Titanicdatasættet, for at se sandsynligheden for at overleve\n",
    "\n",
    "Afprøv dernæst GridsearchCV på hhv. Titanicdatasættet sammen med hhv. Logistic regression, SVM og Stochastic gradient descent, og se om du kan kan finde en kombination af hyper parameters der giver et bedre result end, du opnåede med hhv. KNN og DecisionTree "
   ]
  },
  {
   "cell_type": "code",
   "execution_count": null,
   "metadata": {},
   "outputs": [],
   "source": []
  }
 ],
 "metadata": {
  "kernelspec": {
   "display_name": "Python 3",
   "language": "python",
   "name": "python3"
  },
  "language_info": {
   "codemirror_mode": {
    "name": "ipython",
    "version": 3
   },
   "file_extension": ".py",
   "mimetype": "text/x-python",
   "name": "python",
   "nbconvert_exporter": "python",
   "pygments_lexer": "ipython3",
   "version": "3.7.4"
  }
 },
 "nbformat": 4,
 "nbformat_minor": 2
}
