{
 "cells": [
  {
   "cell_type": "markdown",
   "metadata": {},
   "source": [
    "# Følgende opgavesæt hører til uge 10 i machine learning på pba i Odense"
   ]
  },
  {
   "cell_type": "markdown",
   "metadata": {},
   "source": [
    "## Besvar følgende i tekst:\n",
    "- `Hvad er forskellen mellem Logistic Regression, Linear Regression og Linear Classifier?`\n",
    "  - LogisticRegression bruges til klassificeringsproblemer. både binær og multiclass.\n",
    "  - LinearRegression bruges til regression. skaber en lineær funktion baseret på en mængde af koordinater.\n",
    "  - LinearClassifier\n",
    "- `Hvad er sigmoid-funktionen`\n",
    "  - den siger noget om sandsynligheden for et resultats placering.\n",
    "  - resultatet ligger mellem 0 og 1.\n",
    "  - hvis resultatet er 0,5 er der lige stor sandsynlighed for 0 eller 1.\n",
    "  - jo tættere resultatet nærmer sig 0 eller 1 jo større er sandsynligheden for at det er korrekt \n",
    "  - `Hvad gør den?`\n",
    "  \n",
    "- `Forklar Least Squares Loss funktion`\n",
    "  - beskriver kvadratet af forskellen mellem et punkt baseret på et sample og den satte linje.\n",
    "  - Det gælder om at have så lave værdier som muligt \n",
    "  - `Hvor kan denne metrics bruges? (regression eller classification)`\n",
    "    - Regression - i forbindelse med fitting af en model. \n"
   ]
  },
  {
   "cell_type": "markdown",
   "metadata": {},
   "source": [
    "## Inden for logistic regression:\n",
    "- `Forklar hvad coefficienter er`\n",
    "  - i en lineær funktion vil det svare til hældningstallet \n",
    "  - den lineære funktion beskriver grænsen mellem klasse A og B\n",
    "- `Forklar hvad intercept er`\n",
    "  - i en lineær funktion vil det svare til skæringstallet\n"
   ]
  },
  {
   "cell_type": "markdown",
   "metadata": {
    "pycharm": {
     "name": "#%% md\n"
    }
   },
   "source": [
    "## Inden for SVM (support vector machine):\n",
    "- `Hvad er kernels/Hvad bruges de til?`\n",
    "  - Kernels er funktioner\n",
    "  - kernels udfører transformation på features:\n",
    "  - features sætte op i en højere dimension så man kan opnå en lineær decision boundary mellem punkter.\n",
    "  - sætter man dimensionen ned igen, er grænser ikke længere lineær, men man har en pæn grænse \n",
    "\n"
   ]
  }
 ],
 "metadata": {
  "kernelspec": {
   "display_name": "Python 3",
   "language": "python",
   "name": "python3"
  },
  "language_info": {
   "codemirror_mode": {
    "name": "ipython",
    "version": 3
   },
   "file_extension": ".py",
   "mimetype": "text/x-python",
   "name": "python",
   "nbconvert_exporter": "python",
   "pygments_lexer": "ipython3",
   "version": "3.7.4"
  },
  "pycharm": {
   "stem_cell": {
    "cell_type": "raw",
    "source": [],
    "metadata": {
     "collapsed": false
    }
   }
  }
 },
 "nbformat": 4,
 "nbformat_minor": 2
}