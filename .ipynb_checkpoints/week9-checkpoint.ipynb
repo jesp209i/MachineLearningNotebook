{
 "cells": [
  {
   "cell_type": "markdown",
   "metadata": {
    "pycharm": {
     "name": "#%% md\n"
    }
   },
   "source": [
    "# Opgaver i uge 9\n",
    "# Opgave 1\n",
    "### 1.1 Vurder datasættet\n",
    "Vurder datasættet fra rainforest.\n",
    "- beslut om du vil fjerne kolonner eller impute værdier, eller en blanding.\n",
    "- Lad os se, hvad der giver det bedste resultat."
   ]
  },
  {
   "cell_type": "code",
   "execution_count": null,
   "metadata": {
    "pycharm": {
     "is_executing": true,
     "name": "#%%\n"
    }
   },
   "outputs": [],
   "source": [
    "# Importerer typiske hjælpebiblioteker\n",
    "import pandas as pd\n",
    "import numpy as np\n",
    "import matplotlib\n",
    "import matplotlib.pyplot as plt\n",
    "import seaborn as sns\n",
    "import os\n",
    "%matplotlib inline"
   ]
  },
  {
   "cell_type": "code",
   "execution_count": 10,
   "metadata": {
    "pycharm": {
     "is_executing": false,
     "name": "#%%\n"
    }
   },
   "outputs": [],
   "source": [
    "# importer sklearn-pakkerne der skal bruges\n",
    "from sklearn.neighbors import KNeighborsClassifier\n",
    "from sklearn.model_selection import train_test_split\n"
   ]
  },
  {
   "cell_type": "code",
   "execution_count": 11,
   "metadata": {
    "pycharm": {
     "is_executing": false,
     "name": "#%%\n"
    }
   },
   "outputs": [
    {
     "name": "stdout",
     "output_type": "stream",
     "text": [
      "<class 'pandas.core.frame.DataFrame'>\n",
      "RangeIndex: 65 entries, 0 to 64\n",
      "Data columns (total 8 columns):\n",
      " #   Column      Non-Null Count  Dtype  \n",
      "---  ------      --------------  -----  \n",
      " 0   Unnamed: 0  65 non-null     int64  \n",
      " 1   dbh         65 non-null     int64  \n",
      " 2   wood        64 non-null     float64\n",
      " 3   bark        4 non-null      float64\n",
      " 4   root        13 non-null     float64\n",
      " 5   rootsk      13 non-null     float64\n",
      " 6   branch      43 non-null     float64\n",
      " 7   species     65 non-null     object \n",
      "dtypes: float64(5), int64(2), object(1)\n",
      "memory usage: 4.2+ KB\n"
     ]
    }
   ],
   "source": [
    "path = os.getcwd()\n",
    "input_file = \"\\\\input\\\\rainforest.csv\"\n",
    "properties = pd.read_csv(path+input_file) # Her indlæses i en dataframe\n",
    "\n",
    "properties.info()\n"
   ]
  },
  {
   "cell_type": "markdown",
   "metadata": {
    "pycharm": {
     "name": "#%% md\n"
    }
   },
   "source": [
    "## 1.2 Del sættet op\n",
    "Del sættet op i samples og labels, så du har et datasæt, som kun består af talværdier for de enkelte træsorter."
   ]
  },
  {
   "cell_type": "markdown",
   "metadata": {
    "pycharm": {
     "name": "#%% md\n"
    }
   },
   "source": [
    "## 1.3 Udfør clustering\n",
    "Udfør en clustering med KMeans:\n",
    "- Hvor mange clusters skal vi inddele i?\n",
    "- Hvordan finder vi et godt antal?"
   ]
  },
  {
   "cell_type": "markdown",
   "metadata": {
    "pycharm": {
     "name": "#%% md\n"
    }
   },
   "source": [
    "## 1.4 Sammenhold\n",
    "Sammenhold wood mod branch i et scatterplot"
   ]
  },
  {
   "cell_type": "markdown",
   "metadata": {
    "pycharm": {
     "name": "#%% md\n"
    }
   },
   "source": [
    "## 1.5 Cross Tabulation\n",
    "Udfør en cross tabulation\n",
    "- Hvor gode er dine resultater?"
   ]
  },
  {
   "cell_type": "markdown",
   "metadata": {
    "pycharm": {
     "name": "#%% md\n"
    }
   },
   "source": [
    "## 1.6 StandardScaler og Pipeline\n",
    "Brug en StandardScaler og en Pipeline til at få bedre resultater\n",
    "- Test igen med cross tabulation."
   ]
  },
  {
   "cell_type": "markdown",
   "metadata": {
    "pycharm": {
     "name": "#%% md\n"
    }
   },
   "source": [
    "## 1.7 Intristic dimension\n",
    "Check for intristic dimensions\n",
    "- Lav en dimensionality reduction der svarer til bedste bud\n",
    "- Blev dine resultater bedre?"
   ]
  },
  {
   "cell_type": "markdown",
   "metadata": {
    "pycharm": {
     "name": "#%% md\n"
    }
   },
   "source": [
    "## Opgave 2\n",
    "Classify song genres from audio data (fra datacamp projects)\n",
    "\n",
    "\n",
    "\n"
   ]
  }
 ],
 "metadata": {
  "kernelspec": {
   "display_name": "Python 3",
   "language": "python",
   "name": "python3"
  },
  "language_info": {
   "codemirror_mode": {
    "name": "ipython",
    "version": 3
   },
   "file_extension": ".py",
   "mimetype": "text/x-python",
   "name": "python",
   "nbconvert_exporter": "python",
   "pygments_lexer": "ipython3",
   "version": "3.8.1"
  },
  "pycharm": {
   "stem_cell": {
    "cell_type": "raw",
    "metadata": {
     "collapsed": false
    },
    "source": []
   }
  }
 },
 "nbformat": 4,
 "nbformat_minor": 1
}
