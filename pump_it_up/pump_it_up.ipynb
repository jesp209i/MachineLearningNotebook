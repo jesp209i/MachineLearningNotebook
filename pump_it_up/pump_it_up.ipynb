{
 "cells": [
  {
   "cell_type": "code",
   "execution_count": 2,
   "metadata": {
    "collapsed": true,
    "pycharm": {
     "is_executing": false
    }
   },
   "outputs": [
    {
     "data": {
      "text/plain": "      id  amount_tsh date_recorded                  funder  gps_height  \\\n0  50785         0.0    2013-02-04                    Dmdd        1996   \n1  51630         0.0    2013-02-04  Government Of Tanzania        1569   \n2  17168         0.0    2013-02-01                     NaN        1567   \n3  45559         0.0    2013-01-22              Finn Water         267   \n4  49871       500.0    2013-03-27                  Bruder        1260   \n\n    installer  longitude   latitude                 wpt_name  num_private  \\\n0        DMDD  35.290799  -4.059696  Dinamu Secondary School            0   \n1         DWE  36.656709  -3.309214                  Kimnyak            0   \n2         NaN  34.767863  -5.004344           Puma Secondary            0   \n3  FINN WATER  38.058046  -9.418672           Kwa Mzee Pange            0   \n4      BRUDER  35.006123 -10.950412          Kwa Mzee Turuka            0   \n\n   ... payment_type water_quality quality_group      quantity  quantity_group  \\\n0  ...    never pay          soft          good      seasonal        seasonal   \n1  ...    never pay          soft          good  insufficient    insufficient   \n2  ...    never pay          soft          good  insufficient    insufficient   \n3  ...      unknown          soft          good           dry             dry   \n4  ...      monthly          soft          good        enough          enough   \n\n                 source           source_type  source_class  \\\n0  rainwater harvesting  rainwater harvesting       surface   \n1                spring                spring   groundwater   \n2  rainwater harvesting  rainwater harvesting       surface   \n3          shallow well          shallow well   groundwater   \n4                spring                spring   groundwater   \n\n      waterpoint_type waterpoint_type_group  \n0               other                 other  \n1  communal standpipe    communal standpipe  \n2               other                 other  \n3               other                 other  \n4  communal standpipe    communal standpipe  \n\n[5 rows x 40 columns]",
      "text/html": "<div>\n<style scoped>\n    .dataframe tbody tr th:only-of-type {\n        vertical-align: middle;\n    }\n\n    .dataframe tbody tr th {\n        vertical-align: top;\n    }\n\n    .dataframe thead th {\n        text-align: right;\n    }\n</style>\n<table border=\"1\" class=\"dataframe\">\n  <thead>\n    <tr style=\"text-align: right;\">\n      <th></th>\n      <th>id</th>\n      <th>amount_tsh</th>\n      <th>date_recorded</th>\n      <th>funder</th>\n      <th>gps_height</th>\n      <th>installer</th>\n      <th>longitude</th>\n      <th>latitude</th>\n      <th>wpt_name</th>\n      <th>num_private</th>\n      <th>...</th>\n      <th>payment_type</th>\n      <th>water_quality</th>\n      <th>quality_group</th>\n      <th>quantity</th>\n      <th>quantity_group</th>\n      <th>source</th>\n      <th>source_type</th>\n      <th>source_class</th>\n      <th>waterpoint_type</th>\n      <th>waterpoint_type_group</th>\n    </tr>\n  </thead>\n  <tbody>\n    <tr>\n      <th>0</th>\n      <td>50785</td>\n      <td>0.0</td>\n      <td>2013-02-04</td>\n      <td>Dmdd</td>\n      <td>1996</td>\n      <td>DMDD</td>\n      <td>35.290799</td>\n      <td>-4.059696</td>\n      <td>Dinamu Secondary School</td>\n      <td>0</td>\n      <td>...</td>\n      <td>never pay</td>\n      <td>soft</td>\n      <td>good</td>\n      <td>seasonal</td>\n      <td>seasonal</td>\n      <td>rainwater harvesting</td>\n      <td>rainwater harvesting</td>\n      <td>surface</td>\n      <td>other</td>\n      <td>other</td>\n    </tr>\n    <tr>\n      <th>1</th>\n      <td>51630</td>\n      <td>0.0</td>\n      <td>2013-02-04</td>\n      <td>Government Of Tanzania</td>\n      <td>1569</td>\n      <td>DWE</td>\n      <td>36.656709</td>\n      <td>-3.309214</td>\n      <td>Kimnyak</td>\n      <td>0</td>\n      <td>...</td>\n      <td>never pay</td>\n      <td>soft</td>\n      <td>good</td>\n      <td>insufficient</td>\n      <td>insufficient</td>\n      <td>spring</td>\n      <td>spring</td>\n      <td>groundwater</td>\n      <td>communal standpipe</td>\n      <td>communal standpipe</td>\n    </tr>\n    <tr>\n      <th>2</th>\n      <td>17168</td>\n      <td>0.0</td>\n      <td>2013-02-01</td>\n      <td>NaN</td>\n      <td>1567</td>\n      <td>NaN</td>\n      <td>34.767863</td>\n      <td>-5.004344</td>\n      <td>Puma Secondary</td>\n      <td>0</td>\n      <td>...</td>\n      <td>never pay</td>\n      <td>soft</td>\n      <td>good</td>\n      <td>insufficient</td>\n      <td>insufficient</td>\n      <td>rainwater harvesting</td>\n      <td>rainwater harvesting</td>\n      <td>surface</td>\n      <td>other</td>\n      <td>other</td>\n    </tr>\n    <tr>\n      <th>3</th>\n      <td>45559</td>\n      <td>0.0</td>\n      <td>2013-01-22</td>\n      <td>Finn Water</td>\n      <td>267</td>\n      <td>FINN WATER</td>\n      <td>38.058046</td>\n      <td>-9.418672</td>\n      <td>Kwa Mzee Pange</td>\n      <td>0</td>\n      <td>...</td>\n      <td>unknown</td>\n      <td>soft</td>\n      <td>good</td>\n      <td>dry</td>\n      <td>dry</td>\n      <td>shallow well</td>\n      <td>shallow well</td>\n      <td>groundwater</td>\n      <td>other</td>\n      <td>other</td>\n    </tr>\n    <tr>\n      <th>4</th>\n      <td>49871</td>\n      <td>500.0</td>\n      <td>2013-03-27</td>\n      <td>Bruder</td>\n      <td>1260</td>\n      <td>BRUDER</td>\n      <td>35.006123</td>\n      <td>-10.950412</td>\n      <td>Kwa Mzee Turuka</td>\n      <td>0</td>\n      <td>...</td>\n      <td>monthly</td>\n      <td>soft</td>\n      <td>good</td>\n      <td>enough</td>\n      <td>enough</td>\n      <td>spring</td>\n      <td>spring</td>\n      <td>groundwater</td>\n      <td>communal standpipe</td>\n      <td>communal standpipe</td>\n    </tr>\n  </tbody>\n</table>\n<p>5 rows × 40 columns</p>\n</div>"
     },
     "metadata": {},
     "output_type": "execute_result",
     "execution_count": 2
    }
   ],
   "source": [
    "import pandas as pd\n",
    "import copy\n",
    "data = pd.read_csv('./DrivenData/training_values.csv')\n",
    "holdout = pd.read_csv('./DrivenData/test_values.csv')\n",
    "holdout.head()"
   ]
  },
  {
   "cell_type": "code",
   "execution_count": null,
   "outputs": [],
   "source": [
    "train_objs_num = len(data)\n",
    "dataset_new = pd.concat(objs=[data, holdout], axis=0)\n",
    "dataset_new = dataset_new.drop(['id'], axis=1)\n",
    "dataset_new.fillna(\"\", inplace=True)\n",
    "dataset_new = pd.get_dummies(dataset_new)\n",
    "train = copy.copy(dataset_new[:train_objs_num])\n",
    "test = copy.copy(dataset_new[train_objs_num:])"
   ],
   "metadata": {
    "collapsed": false,
    "pycharm": {
     "name": "#%%\n",
     "is_executing": true
    }
   }
  },
  {
   "cell_type": "code",
   "execution_count": 1,
   "outputs": [
    {
     "traceback": [
      "\u001b[1;31m---------------------------------------------------------------------------\u001b[0m",
      "\u001b[1;31mNameError\u001b[0m                                 Traceback (most recent call last)",
      "\u001b[1;32m<ipython-input-1-dc827a38af56>\u001b[0m in \u001b[0;36m<module>\u001b[1;34m\u001b[0m\n\u001b[1;32m----> 1\u001b[1;33m \u001b[0mprint\u001b[0m\u001b[1;33m(\u001b[0m\u001b[0mtrain\u001b[0m\u001b[1;33m)\u001b[0m\u001b[1;33m\u001b[0m\u001b[1;33m\u001b[0m\u001b[0m\n\u001b[0m\u001b[0;32m      2\u001b[0m \u001b[1;33m\u001b[0m\u001b[0m\n",
      "\u001b[1;31mNameError\u001b[0m: name 'train' is not defined"
     ],
     "ename": "NameError",
     "evalue": "name 'train' is not defined",
     "output_type": "error"
    }
   ],
   "source": [
    "print(train)"
   ],
   "metadata": {
    "collapsed": false,
    "pycharm": {
     "name": "#%%\n",
     "is_executing": false
    }
   }
  },
  {
   "cell_type": "code",
   "execution_count": null,
   "outputs": [],
   "source": [
    "train.info()"
   ],
   "metadata": {
    "collapsed": false,
    "pycharm": {
     "name": "#%%\n",
     "is_executing": true
    }
   }
  },
  {
   "cell_type": "code",
   "execution_count": 7,
   "outputs": [
    {
     "name": "stdout",
     "text": [
      "          id  amount_tsh  gps_height  longitude   latitude  num_private  \\\n",
      "0      69572      6000.0        1390  34.938093  -9.856322            0   \n",
      "1       8776         0.0        1399  34.698766  -2.147466            0   \n",
      "2      34310        25.0         686  37.460664  -3.821329            0   \n",
      "3      67743         0.0         263  38.486161 -11.155298            0   \n",
      "4      19728         0.0           0  31.130847  -1.825359            0   \n",
      "...      ...         ...         ...        ...        ...          ...   \n",
      "59395  60739        10.0        1210  37.169807  -3.253847            0   \n",
      "59396  27263      4700.0        1212  35.249991  -9.070629            0   \n",
      "59397  37057         0.0           0  34.017087  -8.750434            0   \n",
      "59398  31282         0.0           0  35.861315  -6.378573            0   \n",
      "59399  26348         0.0         191  38.104048  -6.747464            0   \n",
      "\n",
      "       region_code  district_code  population  construction_year  ...  \\\n",
      "0               11              5         109               1999  ...   \n",
      "1               20              2         280               2010  ...   \n",
      "2               21              4         250               2009  ...   \n",
      "3               90             63          58               1986  ...   \n",
      "4               18              1           0                  0  ...   \n",
      "...            ...            ...         ...                ...  ...   \n",
      "59395            3              5         125               1999  ...   \n",
      "59396           11              4          56               1996  ...   \n",
      "59397           12              7           0                  0  ...   \n",
      "59398            1              4           0                  0  ...   \n",
      "59399            5              2         150               2002  ...   \n",
      "\n",
      "       waterpoint_type_dam  waterpoint_type_hand pump  \\\n",
      "0                        0                          0   \n",
      "1                        0                          0   \n",
      "2                        0                          0   \n",
      "3                        0                          0   \n",
      "4                        0                          0   \n",
      "...                    ...                        ...   \n",
      "59395                    0                          0   \n",
      "59396                    0                          0   \n",
      "59397                    0                          1   \n",
      "59398                    0                          1   \n",
      "59399                    0                          1   \n",
      "\n",
      "       waterpoint_type_improved spring  waterpoint_type_other  \\\n",
      "0                                    0                      0   \n",
      "1                                    0                      0   \n",
      "2                                    0                      0   \n",
      "3                                    0                      0   \n",
      "4                                    0                      0   \n",
      "...                                ...                    ...   \n",
      "59395                                0                      0   \n",
      "59396                                0                      0   \n",
      "59397                                0                      0   \n",
      "59398                                0                      0   \n",
      "59399                                0                      0   \n",
      "\n",
      "       waterpoint_type_group_cattle trough  \\\n",
      "0                                        0   \n",
      "1                                        0   \n",
      "2                                        0   \n",
      "3                                        0   \n",
      "4                                        0   \n",
      "...                                    ...   \n",
      "59395                                    0   \n",
      "59396                                    0   \n",
      "59397                                    0   \n",
      "59398                                    0   \n",
      "59399                                    0   \n",
      "\n",
      "       waterpoint_type_group_communal standpipe  waterpoint_type_group_dam  \\\n",
      "0                                             1                          0   \n",
      "1                                             1                          0   \n",
      "2                                             1                          0   \n",
      "3                                             1                          0   \n",
      "4                                             1                          0   \n",
      "...                                         ...                        ...   \n",
      "59395                                         1                          0   \n",
      "59396                                         1                          0   \n",
      "59397                                         0                          0   \n",
      "59398                                         0                          0   \n",
      "59399                                         0                          0   \n",
      "\n",
      "       waterpoint_type_group_hand pump  waterpoint_type_group_improved spring  \\\n",
      "0                                    0                                      0   \n",
      "1                                    0                                      0   \n",
      "2                                    0                                      0   \n",
      "3                                    0                                      0   \n",
      "4                                    0                                      0   \n",
      "...                                ...                                    ...   \n",
      "59395                                0                                      0   \n",
      "59396                                0                                      0   \n",
      "59397                                1                                      0   \n",
      "59398                                1                                      0   \n",
      "59399                                1                                      0   \n",
      "\n",
      "       waterpoint_type_group_other  \n",
      "0                                0  \n",
      "1                                0  \n",
      "2                                0  \n",
      "3                                0  \n",
      "4                                0  \n",
      "...                            ...  \n",
      "59395                            0  \n",
      "59396                            0  \n",
      "59397                            0  \n",
      "59398                            0  \n",
      "59399                            0  \n",
      "\n",
      "[59400 rows x 66181 columns]\n"
     ],
     "output_type": "stream"
    }
   ],
   "source": [
    "dummies = pd.get_dummies(data)"
   ],
   "metadata": {
    "collapsed": false,
    "pycharm": {
     "name": "#%%\n",
     "is_executing": false
    }
   }
  }
 ],
 "metadata": {
  "kernelspec": {
   "display_name": "Python 3",
   "language": "python",
   "name": "python3"
  },
  "language_info": {
   "codemirror_mode": {
    "name": "ipython",
    "version": 2
   },
   "file_extension": ".py",
   "mimetype": "text/x-python",
   "name": "python",
   "nbconvert_exporter": "python",
   "pygments_lexer": "ipython2",
   "version": "2.7.6"
  },
  "pycharm": {
   "stem_cell": {
    "cell_type": "raw",
    "source": [],
    "metadata": {
     "collapsed": false
    }
   }
  }
 },
 "nbformat": 4,
 "nbformat_minor": 0
}