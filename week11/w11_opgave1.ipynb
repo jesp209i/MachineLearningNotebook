{
 "cells": [
  {
   "cell_type": "markdown",
   "metadata": {
    "collapsed": true,
    "pycharm": {
     "name": "#%% md\n"
    }
   },
   "source": [
    "# Opgave uge 11 - doner blod\n",
    "Din opgave er, at forudsige, om en bruger vil donere i marts måned 2007 alene baseret på hans historik (som ligger før marts 2007).\n",
    "\n",
    "Følgende kolonner er indeholdt i datasættet:\n",
    "- Months since Last Donation: this is the number of monthis since this donor's most recent donation.\n",
    "- Number of Donations: this is the total number of donations that the donor has made.\n",
    "- Total Volume Donated: this is the total amound of blood that the donor has donated in cubuc centimeters.\n",
    "- Months since First Donation: this is the number of months since the donor's first donation.\n",
    "\n",
    "Brug følgende metoder til at løse opgaven:\n",
    "- Forward Stepwise variable selection\n",
    "- Lav AUC train and test curves (hvor skal dit cutoff ligge?)"
   ]
  },
  {
   "cell_type": "code",
   "execution_count": 90,
   "outputs": [
    {
     "data": {
      "text/plain": "     Months since Last Donation  Number of Donations  \\\n619                           2                   50   \n664                           0                   13   \n441                           1                   16   \n160                           2                   20   \n358                           1                   24   \n\n     Total Volume Donated (c.c.)  Months since First Donation  \\\n619                        12500                           98   \n664                         3250                           28   \n441                         4000                           35   \n160                         5000                           45   \n358                         6000                           77   \n\n     Made Donation in March 2007  \n619                            1  \n664                            1  \n441                            1  \n160                            1  \n358                            0  ",
      "text/html": "<div>\n<style scoped>\n    .dataframe tbody tr th:only-of-type {\n        vertical-align: middle;\n    }\n\n    .dataframe tbody tr th {\n        vertical-align: top;\n    }\n\n    .dataframe thead th {\n        text-align: right;\n    }\n</style>\n<table border=\"1\" class=\"dataframe\">\n  <thead>\n    <tr style=\"text-align: right;\">\n      <th></th>\n      <th>Months since Last Donation</th>\n      <th>Number of Donations</th>\n      <th>Total Volume Donated (c.c.)</th>\n      <th>Months since First Donation</th>\n      <th>Made Donation in March 2007</th>\n    </tr>\n  </thead>\n  <tbody>\n    <tr>\n      <th>619</th>\n      <td>2</td>\n      <td>50</td>\n      <td>12500</td>\n      <td>98</td>\n      <td>1</td>\n    </tr>\n    <tr>\n      <th>664</th>\n      <td>0</td>\n      <td>13</td>\n      <td>3250</td>\n      <td>28</td>\n      <td>1</td>\n    </tr>\n    <tr>\n      <th>441</th>\n      <td>1</td>\n      <td>16</td>\n      <td>4000</td>\n      <td>35</td>\n      <td>1</td>\n    </tr>\n    <tr>\n      <th>160</th>\n      <td>2</td>\n      <td>20</td>\n      <td>5000</td>\n      <td>45</td>\n      <td>1</td>\n    </tr>\n    <tr>\n      <th>358</th>\n      <td>1</td>\n      <td>24</td>\n      <td>6000</td>\n      <td>77</td>\n      <td>0</td>\n    </tr>\n  </tbody>\n</table>\n</div>"
     },
     "metadata": {},
     "output_type": "execute_result",
     "execution_count": 90
    }
   ],
   "source": [
    "import pandas as pd\n",
    "blood_train = pd.read_csv('blood-train.csv', index_col=0 )\n",
    "blood_test = pd.read_csv('blood-test.csv', index_col=0)\n",
    "blood_format = pd.read_csv('blood-format.csv')\n",
    "blood_train.head()"
   ],
   "metadata": {
    "collapsed": false,
    "pycharm": {
     "name": "#%%\n",
     "is_executing": false
    }
   }
  },
  {
   "cell_type": "code",
   "execution_count": 91,
   "outputs": [
    {
     "name": "stdout",
     "text": [
      "     Months since Last Donation  Number of Donations  \\\n",
      "619                           2                   50   \n",
      "664                           0                   13   \n",
      "441                           1                   16   \n",
      "160                           2                   20   \n",
      "358                           1                   24   \n",
      "..                          ...                  ...   \n",
      "698                          23                    1   \n",
      "433                          16                    3   \n",
      "360                          21                    2   \n",
      "541                          39                    1   \n",
      "74                           72                    1   \n",
      "\n",
      "     Total Volume Donated (c.c.)  \n",
      "619                        12500  \n",
      "664                         3250  \n",
      "441                         4000  \n",
      "160                         5000  \n",
      "358                         6000  \n",
      "..                           ...  \n",
      "698                          250  \n",
      "433                          750  \n",
      "360                          500  \n",
      "541                          250  \n",
      "74                           250  \n",
      "\n",
      "[576 rows x 3 columns]\n"
     ],
     "output_type": "stream"
    }
   ],
   "source": [
    "target = 'Made Donation in March 2007'\n",
    "drop_columns = 'Months since First Donation'\n",
    "X = blood_train.drop(columns=[drop_columns], axis=1).drop(target, axis=1)\n",
    "blood_test.drop(columns=drop_columns, axis=1) \n",
    "print(X)"
   ],
   "metadata": {
    "collapsed": false,
    "pycharm": {
     "name": "#%%\n",
     "is_executing": false
    }
   }
  },
  {
   "cell_type": "code",
   "execution_count": 92,
   "outputs": [],
   "source": [
    "y = blood_train['Made Donation in March 2007'].values"
   ],
   "metadata": {
    "collapsed": false,
    "pycharm": {
     "name": "#%%\n",
     "is_executing": false
    }
   }
  },
  {
   "cell_type": "code",
   "execution_count": 93,
   "outputs": [],
   "source": [
    "from sklearn.linear_model import LogisticRegression\n",
    "rfc = LogisticRegression()\n",
    "rfc.fit(X,y)\n",
    "#pred = rfc.predict_proba(blood_test)\n",
    "#pred_done = pred[:,1]\n",
    "pred_train = rfc.predict_proba(X)\n",
    "pred_train_done = pred_train[:,1]"
   ],
   "metadata": {
    "collapsed": false,
    "pycharm": {
     "name": "#%%\n",
     "is_executing": false
    }
   }
  },
  {
   "cell_type": "code",
   "execution_count": 89,
   "outputs": [
    {
     "name": "stdout",
     "text": [
      "0.4909409020707483\n"
     ],
     "output_type": "stream"
    }
   ],
   "source": [
    "from sklearn.metrics import log_loss\n",
    "loss_pred = log_loss(y,pred_train_done)\n",
    "print(loss_pred)"
   ],
   "metadata": {
    "collapsed": false,
    "pycharm": {
     "name": "#%%\n",
     "is_executing": false
    }
   }
  },
  {
   "cell_type": "code",
   "execution_count": 107,
   "outputs": [
    {
     "traceback": [
      "\u001b[1;31m---------------------------------------------------------------------------\u001b[0m",
      "\u001b[1;31mAttributeError\u001b[0m                            Traceback (most recent call last)",
      "\u001b[1;32m<ipython-input-107-b020c483a0b9>\u001b[0m in \u001b[0;36m<module>\u001b[1;34m\u001b[0m\n\u001b[0;32m      2\u001b[0m \u001b[0mscaler\u001b[0m \u001b[1;33m=\u001b[0m \u001b[0mStandardScaler\u001b[0m\u001b[1;33m(\u001b[0m\u001b[1;33m)\u001b[0m\u001b[1;33m\u001b[0m\u001b[1;33m\u001b[0m\u001b[0m\n\u001b[0;32m      3\u001b[0m \u001b[0mX_transformed\u001b[0m \u001b[1;33m=\u001b[0m \u001b[0mscaler\u001b[0m\u001b[1;33m.\u001b[0m\u001b[0mfit_transform\u001b[0m\u001b[1;33m(\u001b[0m\u001b[0mX\u001b[0m\u001b[1;33m)\u001b[0m\u001b[1;33m\u001b[0m\u001b[1;33m\u001b[0m\u001b[0m\n\u001b[1;32m----> 4\u001b[1;33m \u001b[0mX_transformed\u001b[0m\u001b[1;33m.\u001b[0m\u001b[0mhead\u001b[0m\u001b[1;33m(\u001b[0m\u001b[1;33m)\u001b[0m\u001b[1;33m\u001b[0m\u001b[1;33m\u001b[0m\u001b[0m\n\u001b[0m",
      "\u001b[1;31mAttributeError\u001b[0m: 'numpy.ndarray' object has no attribute 'head'"
     ],
     "ename": "AttributeError",
     "evalue": "'numpy.ndarray' object has no attribute 'head'",
     "output_type": "error"
    }
   ],
   "source": [
    "from sklearn.preprocessing import StandardScaler\n",
    "scaler = StandardScaler()\n",
    "X_transformed = scaler.fit_transform(X)\n",
    "X_transformed.head()"
   ],
   "metadata": {
    "collapsed": false,
    "pycharm": {
     "name": "#%%\n",
     "is_executing": false
    }
   }
  },
  {
   "cell_type": "code",
   "execution_count": 112,
   "outputs": [
    {
     "data": {
      "text/plain": "<Figure size 432x288 with 1 Axes>",
      "image/png": "[encoded data removed]"
     },
     "metadata": {
      "needs_background": "light"
     },
     "output_type": "display_data"
    }
   ],
   "source": [
    "import matplotlib.pyplot as plt\n",
    "#X_transformed.plot(kind='hist')\n",
    "plt.hist(X_transformed)\n",
    "plt.show()"
   ],
   "metadata": {
    "collapsed": false,
    "pycharm": {
     "name": "#%%\n",
     "is_executing": false
    }
   }
  },
  {
   "cell_type": "code",
   "execution_count": 113,
   "outputs": [
    {
     "data": {
      "text/plain": "<Figure size 432x288 with 1 Axes>",
      "image/png": "[encoded data removed]"
     },
     "metadata": {
      "needs_background": "light"
     },
     "output_type": "display_data"
    }
   ],
   "source": [
    "plt.hist(X)\n",
    "plt.show()"
   ],
   "metadata": {
    "collapsed": false,
    "pycharm": {
     "name": "#%%\n",
     "is_executing": false
    }
   }
  }
 ],
 "metadata": {
  "kernelspec": {
   "display_name": "Python 3",
   "language": "python",
   "name": "python3"
  },
  "language_info": {
   "codemirror_mode": {
    "name": "ipython",
    "version": 2
   },
   "file_extension": ".py",
   "mimetype": "text/x-python",
   "name": "python",
   "nbconvert_exporter": "python",
   "pygments_lexer": "ipython2",
   "version": "2.7.6"
  },
  "pycharm": {
   "stem_cell": {
    "cell_type": "raw",
    "source": [],
    "metadata": {
     "collapsed": false
    }
   }
  }
 },
 "nbformat": 4,
 "nbformat_minor": 0
}