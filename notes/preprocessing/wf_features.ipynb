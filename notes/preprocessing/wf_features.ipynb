{
 "cells": [
  {
   "cell_type": "markdown",
   "metadata": {
    "collapsed": true,
    "pycharm": {
     "name": "#%% md\n"
    }
   },
   "source": [
    "# Udvælg relevante features\n",
    "\n",
    "- brug almindelig sund fornuft til at indskrænke eller udvælge features\n",
    "  - pas på med ikke at vælge for mange features, da det kan medvirke til overfitting eller uoptimerede modeller.\n",
    "\n",
    "Indskrænk parametre\n",
    "- brug \"Adjusted R squared\"\n",
    "- brug AIC eller BIC\n",
    "\n",
    "sklearn model_selection FTest og Chi squared\n",
    "\n",
    "- SelectKBest\n",
    "- Lasso\n",
    "- Univariate Selection\n",
    "- Feature Importance\n",
    "- Correlation Matrix with Heatmap\n",
    "\n",
    "# 12 teknikker\n",
    "1. procent missing values\n",
    "  - Drop variabler som har en høj procent af manglende værdier\n",
    "    - # manglende værdier / # total \n",
    "2. Amount of variation\n",
    "  - Hvis en feature har lav varians har den ikke indfyldelse på modellen \n",
    "3. pairwise correlation\n",
    "  - Hvis to features har høj correlation til hinanden, kan man droppe den ene, uden at miste så meget information\n",
    "4. multicolinearity\n",
    "5. Principal Component Analysis (PCA)\n",
    "6. Cluster analysis\n",
    "7. Correlation with the target\n",
    "  - hvis features kun har lav correlation med target, vil den være nyttig til at skabe modellen \n",
    "8. forward selection\n",
    "9. backward elimination (RFE)\n",
    "10. Stepwise selection\n",
    "  - \n",
    "11. LASSO\n",
    "12. Tree-based selection\n",
    "\n",
    "# forbedr features\n",
    "## gør værdier \"binære\"\n",
    "laver to kategorier:\n",
    "- restaurenter uden anmærkninger `df['Binary_Violation'] = 0`\n",
    "- restaurenter med 1 eller flere anmærkninger `df['Binary_Violation'] = 1`\n",
    "\n",
    "```python\n",
    "df['Binary_Violation'] = 0\n",
    "df.loc['Number_of_Violations'] > 0, 'Binary_Violation'] = 1\n",
    "df['Binary_Violation'] = pd.cut(df['Number_of_violations'], bins=[-np.inf, 0,2,np.inf], labels=[1,2,3])\n",
    "```\n",
    "\n",
    "## \"Bin\" værdier \n",
    "kombiner værdier, så intevaller af værdier tilhører samme kategori\n",
    "- 3 kategorier:\n",
    "  - Nul anmærkninger : `df['Binned_Group'] = 1`\n",
    "  - 1-2 anmærkninger : `df['Binned_Group'] = 2`\n",
    "  - over 2 anmærkninger : `df['Binned_Group'] = 3`\n",
    "```python\n",
    "import numpy as np\n",
    "df['Binned_Group'] = pd.cut(df['Number_of_violations'], bins=[-np.inf, 0,2,np.inf], labels=[1,2,3])\n",
    "```\n",
    "\n",
    "# manglende data i et datasæt\n",
    "Få en grundlæggende ide om manglende data. Se om nogle af features er underbefolket\n",
    "```python\n",
    "df.info()\n",
    "```\n",
    "\n",
    "Vis alle felter der mangler værdier, de får værdier true: \n",
    "```python\n",
    "print(df.isnull())\n",
    "```\n",
    "Tæl det omvendte ved at bruge:\n",
    "```python\n",
    "print(df.notnull())\n",
    "```\n",
    "\n",
    "Optæl manglende værdier i en kolonne:\n",
    "```python\n",
    "print(df['StackOverflowJobsRecommend'].isnull().sum())\n",
    "```\n",
    "\n",
    "## håndter manglende data\n",
    "### Listwise deletion\n",
    "Fjern rækker som mangler data i en eller flere af rækkens felter\n",
    "```python\n",
    "df.dropna(how='any')\n",
    "```\n",
    "Fjerner hele rækken, hvis kolonnen med `VersionControl` mangler værdi\n",
    "```python\n",
    "df.dropna(subset=['VersionControl'])\n",
    "```\n",
    "\n",
    "### Erstat manglende værdier med en streng\n",
    "```python\n",
    "df['VersionControl'].fillna(value='None Given', inplace=True)\n",
    "```\n",
    "\n",
    "### Registrer manglende data\n",
    "Hvis de manglende data i en kolonne er vigtig i en eller anden forstand, kan dette konverteres til om feature værdien eksisterer eller ej, og selve featuren kan droppes.\n",
    "```python\n",
    "df['SalaryGiven'] = df['ConvertedSalary'].notnull()\n",
    "df.drop(columns=['ConvertedSalary'])\n",
    "```\n",
    "\n",
    "### Erstat manglende værdier - strategier:\n",
    "Ved kategoriske features kan man sætte den kategori der forekommer oftest, eller lave kategorien \"None\".\n",
    "\n",
    "Ved nummeriske features skal man erstatte med en mere passende værdi:\n",
    "  - `df['ConvertedSalary'] = df['ConvertedSalary'].fillna(df['ConvertedSalary'].mean())`\n",
    "  - `df['ConvertedSalary'] = df['ConvertedSalary'].fillna(df['ConvertedSalary'].median())`\n",
    "  - Fjern evt komma tal ved at ændre typen til int:\n",
    "    - `df['ConvertedSalary'] = df['ConvertedSalary'].astype('int64')`\n",
    "  - Eller afrund tallet ved hjælp af `round()`:\n",
    "    - `df['ConvertedSalary'] = df['ConvertedSalary'].fillna(round(df['ConvertedSalary'].mean()))`\n",
    "\n",
    "### Fjern forkerte tegn fra talværdier\n",
    "Hvis en kolonne som burde være nummerisk, indeholde forkerte tegn (eksempelvis komma eller valuta symboler) skal disse fjernes så data kan bearbejdes.\n",
    "- Kolonnen vil være af typen object, da den indeholder 'ikke-tal' værdier\n",
    "```python\n",
    "df['RawSalary'] = df['RawSalary'].str.replace(',', '')\n",
    "df['RawSalary'] = df['RawSalary'].astype('float')  # konverter kolonne til komma-tal\n",
    "```\n",
    "\n",
    "# Fjern afvigelser \n",
    "Afvigelser (outliers) er datapunkter som ligger langt fra resten\n",
    "\n",
    "Fjern de \"bagerste\" 5% af datasættet\n",
    "```python\n",
    "q_cutoff = df['col_name'].quantile(0.95)\n",
    "mask = df['col_name'] < q_cutoff\n",
    "trimmed_df = df[mask]\n",
    "```\n",
    "\n",
    "En anden og måske mere statistisk korrekt måde er at fjerne data som ligger længere væk end 3 standardafvigelser fra mean\n",
    "```python\n",
    "mean = df['col_name'].mean()\n",
    "std = df['col_name'].std()\n",
    "cut_off = std * 3\n",
    "lower, upper = mean - cut_off, mean + cut_off\n",
    "new_df = df[(df['col_name'] < upper) & (df['col_name'] > lower)]\n",
    "```"
   ]
  },
  {
   "cell_type": "markdown",
   "source": [
    "# Udvælg nemt X og y fra et samlet datasæt"
   ],
   "metadata": {
    "collapsed": false,
    "pycharm": {
     "name": "#%% md\n"
    }
   }
  },
  {
   "cell_type": "code",
   "execution_count": null,
   "outputs": [],
   "source": [
    "target = 'outcome'\n",
    "# 'outcome' er navnet på den features som skal fungere som target/y\n",
    "X = df.loc[:,df.columns != target ]\n",
    "y = df.loc[:,df.columns == target ]\n",
    "\n",
    "\n"
   ],
   "metadata": {
    "collapsed": false,
    "pycharm": {
     "name": "#%%\n"
    }
   }
  }
 ],
 "metadata": {
  "kernelspec": {
   "display_name": "Python 3",
   "language": "python",
   "name": "python3"
  },
  "language_info": {
   "codemirror_mode": {
    "name": "ipython",
    "version": 2
   },
   "file_extension": ".py",
   "mimetype": "text/x-python",
   "name": "python",
   "nbconvert_exporter": "python",
   "pygments_lexer": "ipython2",
   "version": "2.7.6"
  },
  "pycharm": {
   "stem_cell": {
    "cell_type": "raw",
    "source": [],
    "metadata": {
     "collapsed": false
    }
   }
  }
 },
 "nbformat": 4,
 "nbformat_minor": 0
}