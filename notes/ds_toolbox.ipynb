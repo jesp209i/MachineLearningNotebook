{
 "cells": [
  {
   "cell_type": "markdown",
   "metadata": {
    "collapsed": true,
    "pycharm": {
     "name": "#%% md\n"
    }
   },
   "source": [
    "# Data science toolbox\n",
    "\n",
    "## Definer funktioner:"
   ]
  },
  {
   "cell_type": "code",
   "execution_count": 12,
   "outputs": [
    {
     "data": {
      "text/plain": "4"
     },
     "metadata": {},
     "output_type": "execute_result",
     "execution_count": 12
    }
   ],
   "source": [
    "# ingen parametre\n",
    "def two_squared(): # <- function header\n",
    "    \"\"\"Returns the square of a value\"\"\"\n",
    "    new_value = 2 ** 2\n",
    "    return new_value\n",
    "\n",
    "two_squared()"
   ],
   "metadata": {
    "collapsed": false,
    "pycharm": {
     "name": "#%% \n",
     "is_executing": false
    }
   }
  },
  {
   "cell_type": "code",
   "execution_count": 10,
   "outputs": [
    {
     "data": {
      "text/plain": "32"
     },
     "metadata": {},
     "output_type": "execute_result",
     "execution_count": 10
    }
   ],
   "source": [
    "# flere parametre\n",
    "def raise_to_power(value1, value2):\n",
    "    \"\"\"Raise value1 to the power of value2.\"\"\"\n",
    "    new_value = value1 ** value2\n",
    "    return new_value\n",
    "\n",
    "raise_to_power(2,5)"
   ],
   "metadata": {
    "collapsed": false,
    "pycharm": {
     "name": "#%%\n",
     "is_executing": false
    }
   }
  },
  {
   "cell_type": "code",
   "execution_count": 14,
   "outputs": [
    {
     "name": "stdout",
     "text": [
      "(32, 25)\n"
     ],
     "output_type": "stream"
    }
   ],
   "source": [
    "# returnerer tupler\n",
    "def raise_both(value1, value2):\n",
    "    \"\"\"Raise value1 to the power of value2 and vise versa.\"\"\"\n",
    "    new_value1 = value1 ** value2\n",
    "    new_value2 = value2 ** value1\n",
    "    \n",
    "    new_tuple = (new_value1, new_value2)\n",
    "    return new_tuple\n",
    "\n",
    "print(raise_both(2,5))"
   ],
   "metadata": {
    "collapsed": false,
    "pycharm": {
     "name": "#%%\n",
     "is_executing": false
    }
   }
  },
  {
   "cell_type": "code",
   "execution_count": null,
   "outputs": [],
   "source": [
    "# Closures\n",
    "def raise"
   ],
   "metadata": {
    "collapsed": false,
    "pycharm": {
     "name": "#%%\n"
    }
   }
  },
  {
   "cell_type": "markdown",
   "source": [
    "# Error handling\n",
    "Brug `try: except:` som minder om try/catch"
   ],
   "metadata": {
    "collapsed": false,
    "pycharm": {
     "name": "#%% md\n"
    }
   }
  },
  {
   "cell_type": "code",
   "execution_count": 16,
   "outputs": [
    {
     "name": "stdout",
     "text": [
      "x must be an int or float\n"
     ],
     "output_type": "stream"
    },
    {
     "data": {
      "text/plain": "2.0"
     },
     "metadata": {},
     "output_type": "execute_result",
     "execution_count": 16
    }
   ],
   "source": [
    "def sqrt(x):\n",
    "    \"\"\"Returns the square root of a number.\"\"\"\n",
    "    try:\n",
    "        return x ** 0.5\n",
    "    except:\n",
    "        print('x must be an int or float')\n",
    "        \n",
    "sqrt('hest')\n",
    "sqrt(4)"
   ],
   "metadata": {
    "collapsed": false,
    "pycharm": {
     "name": "#%%\n",
     "is_executing": false
    }
   }
  },
  {
   "cell_type": "code",
   "execution_count": null,
   "outputs": [],
   "source": [
    "def sqrt(x):\n",
    "    \"\"\"Returns the square root of a number.\"\"\"\n",
    "    try:\n",
    "        return x ** 0.5\n",
    "    except TypeError:\n",
    "        print('x must be an int or float')\n",
    "        \n",
    "sqrt('hest')\n",
    "sqrt(4)"
   ],
   "metadata": {
    "collapsed": false,
    "pycharm": {
     "name": "#%%\n"
    }
   }
  },
  {
   "cell_type": "markdown",
   "source": [
    "- [indbyggede Exceptions](https://docs.python.org/3/library/exceptions.html#bltin-exceptions)"
   ],
   "metadata": {
    "collapsed": false,
    "pycharm": {
     "name": "#%% md\n"
    }
   }
  },
  {
   "cell_type": "markdown",
   "source": [
    "# Lambda funktioner"
   ],
   "metadata": {
    "collapsed": false,
    "pycharm": {
     "name": "#%% md\n"
    }
   }
  },
  {
   "cell_type": "code",
   "execution_count": 18,
   "outputs": [
    {
     "name": "stdout",
     "text": [
      "18\n"
     ],
     "output_type": "stream"
    }
   ],
   "source": [
    "addition = lambda x,y: x + y\n",
    "print(addition(10,8))"
   ],
   "metadata": {
    "collapsed": false,
    "pycharm": {
     "name": "#%%\n",
     "is_executing": false
    }
   }
  }
 ],
 "metadata": {
  "kernelspec": {
   "display_name": "Python 3",
   "language": "python",
   "name": "python3"
  },
  "language_info": {
   "codemirror_mode": {
    "name": "ipython",
    "version": 2
   },
   "file_extension": ".py",
   "mimetype": "text/x-python",
   "name": "python",
   "nbconvert_exporter": "python",
   "pygments_lexer": "ipython2",
   "version": "2.7.6"
  },
  "pycharm": {
   "stem_cell": {
    "cell_type": "raw",
    "source": [],
    "metadata": {
     "collapsed": false
    }
   }
  }
 },
 "nbformat": 4,
 "nbformat_minor": 0
}